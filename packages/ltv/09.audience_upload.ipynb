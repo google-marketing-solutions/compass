{
  "cells": [
    {
      "cell_type": "code",
      "execution_count": null,
      "id": "413913ce",
      "metadata": {
        "id": "413913ce"
      },
      "outputs": [],
      "source": [
        "# Copyright 2022 Google LLC.\n",
        "# Licensed under the Apache License, Version 2.0 (the \"License\");\n",
        "# you may not use this file except in compliance with the License.\n",
        "# You may obtain a copy of the License at\n",
        "#\n",
        "# https://www.apache.org/licenses/LICENSE-2.0\n",
        "#\n",
        "# Unless required by applicable law or agreed to in writing, software\n",
        "# distributed under the License is distributed on an \"AS IS\" BASIS,\n",
        "# WITHOUT WARRANTIES OR CONDITIONS OF ANY KIND, either express or implied.\n",
        "# See the License for the specific language governing permissions and\n",
        "# limitations under the License."
      ]
    },
    {
      "cell_type": "markdown",
      "id": "1f6e2e84",
      "metadata": {
        "id": "1f6e2e84"
      },
      "source": [
        "# 9. Audience Upload to GMP"
      ]
    },
    {
      "cell_type": "markdown",
      "id": "057af309",
      "metadata": {
        "id": "057af309"
      },
      "source": [
        "[GMP and Google Ads Connector](https://github.com/GoogleCloudPlatform/cloud-for-marketing/tree/main/marketing-analytics/activation/gmp-googleads-connector#gmp-and-google-ads-connector) is used to upload audience data to GMP (e.g. Google Analytics, Campaign Manager) or Google Ads in an automatic and reliable way.\n",
        "\n",
        "Following sections provide high level guidelines on deploying and configuring [GMP and Google Ads Connector](https://github.com/GoogleCloudPlatform/cloud-for-marketing/tree/main/marketing-analytics/activation/gmp-googleads-connector#gmp-and-google-ads-connector). For detailed instructions on how to set up different GMP endpoints, refer to solution's [README.md](https://github.com/GoogleCloudPlatform/cloud-for-marketing/blob/main/marketing-analytics/activation/gmp-googleads-connector/README.md)."
      ]
    },
    {
      "cell_type": "markdown",
      "id": "974238b2",
      "metadata": {
        "id": "974238b2"
      },
      "source": [
        "## Requirements"
      ]
    },
    {
      "cell_type": "markdown",
      "id": "8872c180",
      "metadata": {
        "id": "8872c180"
      },
      "source": [
        "This notebook requires BigQuery table containing scored audience list. Refer to [7.batch_scoring.ipynb](7.batch_scoring.ipynb) for details on how to get scored audience."
      ]
    },
    {
      "cell_type": "markdown",
      "id": "591dab56",
      "metadata": {
        "id": "591dab56"
      },
      "source": [
        "## Import required modules"
      ]
    },
    {
      "cell_type": "code",
      "execution_count": null,
      "id": "1407eed4",
      "metadata": {
        "id": "1407eed4"
      },
      "outputs": [],
      "source": [
        "# Add custom utils module to Python environment\n",
        "import os\n",
        "import sys\n",
        "sys.path.append(os.path.abspath(os.pardir))\n",
        "\n",
        "from IPython import display\n",
        "\n",
        "from utils import helpers"
      ]
    },
    {
      "cell_type": "markdown",
      "id": "04ed186a",
      "metadata": {
        "id": "04ed186a"
      },
      "source": [
        "## Deploy GMP and Google Ads Connector"
      ]
    },
    {
      "cell_type": "markdown",
      "id": "00dd7ef0",
      "metadata": {
        "id": "00dd7ef0"
      },
      "source": [
        "First clone the source code by executing below cell:"
      ]
    },
    {
      "cell_type": "code",
      "execution_count": null,
      "id": "87962d02",
      "metadata": {
        "id": "87962d02"
      },
      "outputs": [],
      "source": [
        "!git clone https://github.com/GoogleCloudPlatform/cloud-for-marketing.git ~/cloud-for-marketing"
      ]
    },
    {
      "cell_type": "markdown",
      "id": "3f626eb4",
      "metadata": {
        "id": "3f626eb4"
      },
      "source": [
        "Next, exectute following two steps to deploy GMP and Google Ads Connector on your GCP project.\n",
        "\n",
        "1. Copy following content:\n",
        "\n",
        "```bash\n",
        "cd ~/cloud-for-marketing/marketing-analytics/activation/gmp-googleads-connector \u0026\u0026 ./deploy.sh default_install\n",
        "```\n",
        "\n",
        "2. Execute following cell to start a new **Terminal session** and paste above copied content to the Terminal. **NOTE:** This notebook uses [Google Analytics Measurement Protocol API](https://developers.google.com/analytics/devguides/collection/protocol/v1/devguide) to demonstrate audience upload, thus choose `0` on **Step 5: Confirm the integration with external APIs...** during the installation process on the Terminal session.\n",
        "\n",
        "It takes about 3 minutes to setup audience uploader pipeline."
      ]
    },
    {
      "cell_type": "code",
      "execution_count": null,
      "id": "da49063c",
      "metadata": {
        "id": "da49063c"
      },
      "outputs": [],
      "source": [
        "display.HTML('\u003ca href=\"\" data-commandlinker-command=\"terminal:create-new\"\u003e▶Access Terminal◀︎\u003c/a\u003e')"
      ]
    },
    {
      "cell_type": "markdown",
      "id": "2f919e84",
      "metadata": {
        "id": "2f919e84"
      },
      "source": [
        "When the deployment is done, you can verify three Cloud Functions deployments via the [Cloud Console UI](https://console.cloud.google.com/functions). If deployment is succeeded, move to next section to upload audience data to Google Analytics via JSONL file."
      ]
    },
    {
      "cell_type": "markdown",
      "id": "e2da8ab5",
      "metadata": {
        "id": "e2da8ab5"
      },
      "source": [
        "## Configure audience upload endpoint"
      ]
    },
    {
      "cell_type": "markdown",
      "id": "ca03a556",
      "metadata": {
        "id": "ca03a556"
      },
      "source": [
        "Different audience upload endpoint APIs have different configurations. Following demonstrates how endpoint for Google Analytics can be configured via Measurement Protocol. Refer to [3.3. Configurations of APIs](https://github.com/GoogleCloudPlatform/cloud-for-marketing/tree/main/marketing-analytics/activation/gmp-googleads-connector#33-configurations-of-apis) for detailed configuration options for other endpoints.\n",
        "\n",
        "Update following GA values according to your needs in the following cell. Refer to [Working with the Measurement Protocol](https://developers.google.com/analytics/devguides/collection/protocol/v1/devguide) for details on field names and correct values.\n",
        "\n",
        "```json\n",
        "{\n",
        "    \"t\": \"event\",\n",
        "    \"ec\": \"video\",\n",
        "    \"ea\": \"play\",\n",
        "    \"ni\": \"1\",\n",
        "    \"tid\": \"UA-112752759-1\"\n",
        "}\n",
        "```"
      ]
    },
    {
      "cell_type": "code",
      "execution_count": null,
      "id": "2bc1d0a2",
      "metadata": {
        "id": "2bc1d0a2"
      },
      "outputs": [],
      "source": [
        "%%writefile cloud-for-marketing/marketing-analytics/activation/gmp-googleads-connector/config_api.json\n",
        "{\n",
        "  \"MP\": {\n",
        "    \"default\": {\n",
        "      \"mpConfig\": {\n",
        "        \"v\": \"1\",\n",
        "        \"t\": \"event\",\n",
        "        \"ec\": \"video\",\n",
        "        \"ea\": \"play\",\n",
        "        \"ni\": \"1\",\n",
        "        \"tid\": \"UA-XXXXXXXXX-Y\"\n",
        "      }\n",
        "    }\n",
        "  }\n",
        "}"
      ]
    },
    {
      "cell_type": "markdown",
      "id": "b95ec8f0",
      "metadata": {
        "id": "b95ec8f0"
      },
      "source": [
        "## Create audience list JSON files"
      ]
    },
    {
      "cell_type": "markdown",
      "id": "164cc7c7",
      "metadata": {
        "id": "164cc7c7"
      },
      "source": [
        "**GMP and Google Ads Connector**'s [Google Analytics Measurement Protocol pipeline](https://github.com/GoogleCloudPlatform/cloud-for-marketing/blob/main/marketing-analytics/activation/gmp-googleads-connector/README.md#41-mp-google-analytics-measurement-protocol) requires [JSONL](https://jsonlines.org) text format. Following cells help to export BigQuery table containing audience list as `JSONL` file to Google Cloud Storage Bucket. **NOTE:** This solution has specific file naming requirement to work properly. Refer to [3.4. Name convention of data files](https://github.com/GoogleCloudPlatform/cloud-for-marketing/blob/main/marketing-analytics/activation/gmp-googleads-connector/README.md#34-name-convention-of-data-files) for more details.\n",
        "\n",
        "\n",
        "As soon as the file is uploaded, **GMP and Google Ads Connector** processes it and sends it via Measurement Protocol to Google Analytics property configured above (`\"tid\": \"UA-XXXXXXXXX-Y\"`)."
      ]
    },
    {
      "cell_type": "code",
      "execution_count": null,
      "id": "FgpW1atMGm4N",
      "metadata": {
        "id": "FgpW1atMGm4N"
      },
      "outputs": [],
      "source": [
        "configs = helpers.get_configs('config.yaml')\n",
        "dest_configs = configs.destination\n",
        "\n",
        "# GCP project ID\n",
        "PROJECT_ID = dest_configs.project_id\n",
        "# Name of BigQuery dataset\n",
        "DATASET_NAME = dest_configs.dataset_name"
      ]
    },
    {
      "cell_type": "code",
      "execution_count": null,
      "id": "1828f8b1",
      "metadata": {
        "id": "1828f8b1"
      },
      "outputs": [],
      "source": [
        "\n",
        "# Google Cloud Storage Bucket name to store audience upload JSON files\n",
        "# NOTE: The name should be same as indicated while deploying\n",
        "# \"GMP and Google Ads Connector\" on the Terminal\n",
        "GCS_BUCKET = 'bucket'\n",
        "# This Cloud Storage folder is monitored by the \"GMP and Google Ads Connector\"\n",
        "# to send over to endpoint (eg: Google Analytics).\n",
        "GCS_FOLDER = 'outbound'\n",
        "# File name to export BigQuery Table to Cloud Storage\n",
        "JSONL_FILENAME = 'myproject_API[MP]_config[default].jsonl'\n",
        "# BigQuery table containing scored audience data\n",
        "AUDIENCE_SCORE_TABLE_NAME = 'table'"
      ]
    },
    {
      "cell_type": "code",
      "execution_count": null,
      "id": "91b375a3",
      "metadata": {
        "id": "91b375a3"
      },
      "outputs": [],
      "source": [
        "%%bash -s $PROJECT_ID $DATASET_NAME $AUDIENCE_SCORE_TABLE_NAME $GCS_BUCKET $GCS_FOLDER $JSONL_FILENAME\n",
        "\n",
        "bq extract \\\n",
        "    --destination_format NEWLINE_DELIMITED_JSON \\\n",
        "    $1:$2.$3 \\\n",
        "    gs://$4/$5/$6"
      ]
    },
    {
      "cell_type": "markdown",
      "id": "41a46da6",
      "metadata": {
        "id": "41a46da6"
      },
      "source": [
        "## Next"
      ]
    },
    {
      "cell_type": "markdown",
      "id": "2078763f",
      "metadata": {
        "id": "2078763f"
      },
      "source": [
        "If schedule-based automated pipeline is required, then refer to [10.automatyed_activation_pipeline.ipynb](10.automatyed_activation_pipeline.ipynb) which helps to automate following steps:\n",
        "1. Generate prediction dataset\n",
        "2. Batch score the audience\n",
        "3. Upload audience to GMP endpoint"
      ]
    }
  ],
  "metadata": {
    "colab": {
      "collapsed_sections": [],
      "name": "9.audience_upload.ipynb",
      "provenance": []
    },
    "environment": {
      "name": "common-cpu.m76",
      "type": "gcloud",
      "uri": "gcr.io/deeplearning-platform-release/base-cpu:m76"
    },
    "kernelspec": {
      "display_name": "Python 3",
      "language": "python",
      "name": "python3"
    },
    "language_info": {
      "codemirror_mode": {
        "name": "ipython",
        "version": 3
      },
      "file_extension": ".py",
      "mimetype": "text/x-python",
      "name": "python",
      "nbconvert_exporter": "python",
      "pygments_lexer": "ipython3",
      "version": "3.7.10"
    }
  },
  "nbformat": 4,
  "nbformat_minor": 5
}
