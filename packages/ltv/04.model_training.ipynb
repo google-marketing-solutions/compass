{
  "cells": [
    {
      "cell_type": "code",
      "execution_count": null,
      "id": "11bc3cff",
      "metadata": {
        "id": "11bc3cff"
      },
      "outputs": [],
      "source": [
        "# Copyright 2022 Google LLC.\n",
        "# Licensed under the Apache License, Version 2.0 (the \"License\");\n",
        "# you may not use this file except in compliance with the License.\n",
        "# You may obtain a copy of the License at\n",
        "#\n",
        "# https://www.apache.org/licenses/LICENSE-2.0\n",
        "#\n",
        "# Unless required by applicable law or agreed to in writing, software\n",
        "# distributed under the License is distributed on an \"AS IS\" BASIS,\n",
        "# WITHOUT WARRANTIES OR CONDITIONS OF ANY KIND, either express or implied.\n",
        "# See the License for the specific language governing permissions and\n",
        "# limitations under the License."
      ]
    },
    {
      "cell_type": "markdown",
      "id": "CIdexVYlhBG0",
      "metadata": {
        "id": "CIdexVYlhBG0"
      },
      "source": [
        "#4. Model Training\n",
        "\n",
        "This notebook demonstrates how to train an LTV Model using BigQuery ML."
      ]
    },
    {
      "cell_type": "markdown",
      "id": "9983c3ce",
      "metadata": {
        "id": "9983c3ce"
      },
      "source": [
        "### Install and import required modules"
      ]
    },
    {
      "cell_type": "code",
      "execution_count": null,
      "id": "sl5-EhYQhJJ0",
      "metadata": {
        "id": "sl5-EhYQhJJ0"
      },
      "outputs": [],
      "source": [
        "# Uncomment to install required python modules\n",
        "# !sh ../utils/setup.sh"
      ]
    },
    {
      "cell_type": "code",
      "execution_count": null,
      "id": "62df278b",
      "metadata": {
        "id": "62df278b"
      },
      "outputs": [],
      "source": [
        "# Add custom utils module to Python environment\n",
        "import os\n",
        "import sys\n",
        "sys.path.append(os.path.abspath(os.pardir))\n",
        "\n",
        "import numpy as np\n",
        "import pandas as pd\n",
        "\n",
        "from gps_building_blocks.cloud.utils import bigquery as bigquery_utils\n",
        "from utils import model\n",
        "from utils import helpers"
      ]
    },
    {
      "cell_type": "markdown",
      "id": "e39c7108",
      "metadata": {
        "id": "e39c7108"
      },
      "source": [
        "### Set parameters"
      ]
    },
    {
      "cell_type": "code",
      "execution_count": null,
      "id": "7Sz-F_Hti2NE",
      "metadata": {
        "id": "7Sz-F_Hti2NE"
      },
      "outputs": [],
      "source": [
        "configs = helpers.get_configs('config.yaml')\n",
        "dest_configs = configs.destination\n",
        "\n",
        "# GCP project ID\n",
        "PROJECT_ID = dest_configs.project_id\n",
        "# Name of the BigQuery dataset\n",
        "DATASET_NAME = dest_configs.dataset_name"
      ]
    },
    {
      "cell_type": "code",
      "execution_count": null,
      "id": "0mvaLMVki3Kv",
      "metadata": {
        "id": "0mvaLMVki3Kv"
      },
      "outputs": [],
      "source": [
        "# To distinguish the seperate runs of the training pipeline\n",
        "RUN_ID = '01'\n",
        "\n",
        "# BigQuery table name containing model development dataset\n",
        "FEATURES_DEV_TABLE = f'features_dev_table_{RUN_ID}'\n",
        "\n",
        "# BigQuery table name containing out of time test dataset\n",
        "FEATURES_TEST_TABLE = f'features_test_table_{RUN_ID}'"
      ]
    },
    {
      "cell_type": "code",
      "execution_count": null,
      "id": "fca8fb22",
      "metadata": {
        "id": "fca8fb22"
      },
      "outputs": [],
      "source": [
        "# Initialize BigQuery client.\n",
        "bq_utils = bigquery_utils.BigQueryUtils(project_id=PROJECT_ID)"
      ]
    },
    {
      "cell_type": "code",
      "execution_count": null,
      "id": "TCO6mFnDlZju",
      "metadata": {
        "id": "TCO6mFnDlZju"
      },
      "outputs": [],
      "source": [
        "# Read in Features table schema to select feature names for model training\n",
        "sql = (\"SELECT column_name \"\n",
        "       f\"FROM `{PROJECT_ID}.{DATASET_NAME}`.INFORMATION_SCHEMA.COLUMNS \"\n",
        "       f\"WHERE table_name='{FEATURES_DEV_TABLE}';\")\n",
        "\n",
        "print(sql)\n",
        "features_schema = bq_utils.run_query(sql).to_dataframe()\n",
        "\n",
        "# Columns to remove from the feature list\n",
        "to_remove = ['window_start_ts', 'window_end_ts', 'snapshot_ts', 'user_id',\n",
        "             'label', 'key', 'data_split']\n",
        "\n",
        "# Selected features for model training\n",
        "training_features = [v for v in features_schema['column_name']\n",
        "                     if v not in to_remove]\n",
        "\n",
        "print('Number of training features:', len(training_features))\n",
        "print(training_features)\n",
        "\n",
        "\n",
        "FEATURE_COLUMNS = training_features\n",
        "TARGET_COLUMN = 'label'"
      ]
    },
    {
      "cell_type": "markdown",
      "id": "b4e31385",
      "metadata": {
        "id": "b4e31385"
      },
      "source": [
        "## Model Training"
      ]
    },
    {
      "cell_type": "markdown",
      "id": "61549101",
      "metadata": {
        "id": "61549101"
      },
      "source": [
        "### BQML Regression"
      ]
    },
    {
      "cell_type": "code",
      "execution_count": null,
      "id": "8fe00c91",
      "metadata": {
        "id": "8fe00c91"
      },
      "outputs": [],
      "source": [
        "# Train BQML Regression model on the development dataset\n",
        "\n",
        "# Output BQML model name to save in BigQuery\n",
        "BQML_MODEL_NAME = f'ltv_model_bqml_{RUN_ID}'\n",
        "\n",
        "# Set model parameters\n",
        "bqml_params = {\n",
        "  'model_path': f'{PROJECT_ID}.{DATASET_NAME}.{BQML_MODEL_NAME}',\n",
        "  'features_table_path': f'{PROJECT_ID}.{DATASET_NAME}.{FEATURES_DEV_TABLE}',\n",
        "  'feature_columns': FEATURE_COLUMNS,\n",
        "  'target_column': TARGET_COLUMN,\n",
        "  'MODEL_TYPE': 'LINEAR_REG',\n",
        "  'L2_REG': 0.0001,\n",
        "  'MAX_ITERATIONS': 50,\n",
        "  'LEARN_RATE_STRATEGY': 'LINE_SEARCH',\n",
        "  'EARLY_STOP': True,\n",
        "  'MIN_REL_PROGRESS': 0.001,\n",
        "  # Use data_split_col if you want to use custom data split.\n",
        "  # Details on AUTO_SPLIT:\n",
        "  # https://cloud.google.com/bigquery-ml/docs/reference/standard-sql/bigqueryml-syntax-create-glm#data_split_method\n",
        "  # 'CUSTOM' - split data using a customer provided column of type BOOL.\n",
        "  'DATA_SPLIT_METHOD': 'AUTO_SPLIT',\n",
        "  # 'DATA_SPLIT_COL': 'data_split',\n",
        "  # TODO(): Adopt BOOL type data_split_col\n",
        "  'ENABLE_GLOBAL_EXPLAIN': True,\n",
        "  'OPTIMIZATION_OBJECTIVE': 'MINIMIZE_RMSE'\n",
        "}\n",
        "\n",
        "# Train moodel\n",
        "bq_utils = bigquery_utils.BigQueryUtils(project_id=PROJECT_ID)\n",
        "ltv_model = model.LTVModel(bq_utils=bq_utils,\n",
        "                           params=bqml_params)"
      ]
    },
    {
      "cell_type": "code",
      "execution_count": null,
      "id": "wf_mGP5Po75L",
      "metadata": {
        "id": "wf_mGP5Po75L"
      },
      "outputs": [],
      "source": [
        "ltv_model.train(verbose=False)"
      ]
    },
    {
      "cell_type": "code",
      "execution_count": null,
      "id": "8HJAf3FZo9Dy",
      "metadata": {
        "id": "8HJAf3FZo9Dy"
      },
      "outputs": [],
      "source": [
        "ltv_model.get_feature_info()"
      ]
    },
    {
      "cell_type": "code",
      "execution_count": null,
      "id": "d206933d",
      "metadata": {
        "id": "d206933d"
      },
      "outputs": [],
      "source": [
        "# Extract the performance on the test partition of the development dataset\n",
        "sql = f\"\"\"SELECT * FROM\n",
        "        ML.EVALUATE(MODEL `{PROJECT_ID}.{DATASET_NAME}.{BQML_MODEL_NAME}`);\"\"\"\n",
        "\n",
        "print(sql)\n",
        "bq_utils.run_query(sql).to_dataframe()"
      ]
    },
    {
      "cell_type": "code",
      "execution_count": null,
      "id": "64d4cf75",
      "metadata": {
        "id": "64d4cf75"
      },
      "outputs": [],
      "source": [
        "# Extract the performance on the test partition of the testing dataset\n",
        "sql =  f\"\"\"SELECT * FROM\n",
        "          ML.EVALUATE(MODEL `{PROJECT_ID}.{DATASET_NAME}.{BQML_MODEL_NAME}`,\n",
        "          (SELECT * FROM `{PROJECT_ID}.{DATASET_NAME}.{FEATURES_TEST_TABLE}`));\"\"\"\n",
        "\n",
        "print(sql)\n",
        "bq_utils.run_query(sql).to_dataframe()"
      ]
    },
    {
      "cell_type": "markdown",
      "id": "2920006e",
      "metadata": {
        "id": "2920006e"
      },
      "source": [
        "### AUTOML Model"
      ]
    },
    {
      "cell_type": "code",
      "execution_count": null,
      "id": "gVRVTXpinres",
      "metadata": {
        "id": "gVRVTXpinres"
      },
      "outputs": [],
      "source": [
        "# Train AutoML model on the development dataset\n",
        "\n",
        "# Output AutoML model name to save in BigQuery\n",
        "AUTOML_MODEL_NAME = f'ltv_model_automl_{RUN_ID}'\n",
        "\n",
        "# Set model parameters\n",
        "automl_params = {\n",
        "  'model_path': f'{PROJECT_ID}.{DATASET_NAME}.{AUTOML_MODEL_NAME}',\n",
        "  'features_table_path': f'{PROJECT_ID}.{DATASET_NAME}.{FEATURES_DEV_TABLE}',\n",
        "  'feature_columns': FEATURE_COLUMNS,\n",
        "  'target_column': TARGET_COLUMN,\n",
        "  'MODEL_TYPE': 'AUTOML_REGRESSOR',\n",
        "  # Enable data_split_col if you want to use custom data split.\n",
        "  # Details on AUTOML data split column:\n",
        "  # https://cloud.google.com/automl-tables/docs/prepare#split\n",
        "  # 'DATA_SPLIT_COL': 'data_split',\n",
        "  # TODO(): Adopt BOOL type data_split_col\n",
        "  'OPTIMIZATION_OBJECTIVE': 'MINIMIZE_RMSE',\n",
        "  'BUDGET_HOURS': 1.0\n",
        "}\n",
        "\n",
        "# train moodel\n",
        "bq_utils = bigquery_utils.BigQueryUtils(project_id=PROJECT_ID)\n",
        "ltv_model = model.LTVModel(bq_utils=bq_utils,\n",
        "                           params=automl_params)"
      ]
    },
    {
      "cell_type": "code",
      "execution_count": null,
      "id": "mki2uX9CpLPZ",
      "metadata": {
        "id": "mki2uX9CpLPZ"
      },
      "outputs": [],
      "source": [
        "ltv_model.train(verbose=False)"
      ]
    },
    {
      "cell_type": "code",
      "execution_count": null,
      "id": "ZOuzByUWpP9r",
      "metadata": {
        "id": "ZOuzByUWpP9r"
      },
      "outputs": [],
      "source": [
        "ltv_model.get_feature_info()"
      ]
    },
    {
      "cell_type": "code",
      "execution_count": null,
      "id": "1F8UUSapnr2l",
      "metadata": {
        "id": "1F8UUSapnr2l"
      },
      "outputs": [],
      "source": [
        "# Extract the performance on the test partition of the development dataset\n",
        "sql = f\"\"\"SELECT * FROM\n",
        "        ML.EVALUATE(MODEL `{PROJECT_ID}.{DATASET_NAME}.{AUTOML_MODEL_NAME}`);\"\"\"\n",
        "\n",
        "print(sql)\n",
        "bq_utils.run_query(sql).to_dataframe()"
      ]
    },
    {
      "cell_type": "code",
      "execution_count": null,
      "id": "PqXs_3Jrnr5L",
      "metadata": {
        "id": "PqXs_3Jrnr5L"
      },
      "outputs": [],
      "source": [
        "# Extract the performance on the test partition of the testing dataset\n",
        "sql =  f\"\"\"SELECT * FROM\n",
        "          ML.EVALUATE(MODEL `{PROJECT_ID}.{DATASET_NAME}.{AUTOML_MODEL_NAME}`,\n",
        "          (SELECT * FROM `{PROJECT_ID}.{DATASET_NAME}.{FEATURES_TEST_TABLE}`));\"\"\"\n",
        "\n",
        "print(sql)\n",
        "bq_utils.run_query(sql).to_dataframe()"
      ]
    }
  ],
  "metadata": {
    "colab": {
      "collapsed_sections": [],
      "last_runtime": {
        "build_target": "//corp/gtech/ads/infrastructure/colab_utils/ds_runtime:ds_colab",
        "kind": "private"
      },
      "name": "4.model_training.ipynb",
      "private_outputs": true,
      "provenance": [
        {
          "file_id": "/piper/depot/google3/third_party/professional_services/solutions/compass/packages/ltv/04.model_training.ipynb?workspaceId=szczecinski:CS-04model_training-2022-05-12_141349::citc",
          "timestamp": 1652422905403
        }
      ]
    },
    "environment": {
      "name": "tf2-gpu.2-6.m78",
      "type": "gcloud",
      "uri": "gcr.io/deeplearning-platform-release/tf2-gpu.2-6:m78"
    },
    "kernelspec": {
      "display_name": "Python 3",
      "language": "python",
      "name": "python3"
    },
    "language_info": {
      "codemirror_mode": {
        "name": "ipython",
        "version": 3
      },
      "file_extension": ".py",
      "mimetype": "text/x-python",
      "name": "python",
      "nbconvert_exporter": "python",
      "pygments_lexer": "ipython3",
      "version": "3.7.10"
    }
  },
  "nbformat": 4,
  "nbformat_minor": 5
}
