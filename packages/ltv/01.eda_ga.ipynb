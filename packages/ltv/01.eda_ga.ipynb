{
  "cells": [
    {
      "cell_type": "code",
      "execution_count": null,
      "metadata": {
        "id": "IngCH5EwiUiw"
      },
      "outputs": [],
      "source": [
        "# Copyright 2022 Google LLC.\n",
        "# Licensed under the Apache License, Version 2.0 (the \"License\");\n",
        "# you may not use this file except in compliance with the License.\n",
        "# You may obtain a copy of the License at\n",
        "#\n",
        "# https://www.apache.org/licenses/LICENSE-2.0\n",
        "#\n",
        "# Unless required by applicable law or agreed to in writing, software\n",
        "# distributed under the License is distributed on an \"AS IS\" BASIS,\n",
        "# WITHOUT WARRANTIES OR CONDITIONS OF ANY KIND, either express or implied.\n",
        "# See the License for the specific language governing permissions and\n",
        "# limitations under the License."
      ]
    },
    {
      "cell_type": "markdown",
      "metadata": {
        "id": "5luWAyu0ejDG"
      },
      "source": [
        "# 1. Exploratory Data Analysis (EDA) for Lifetime Value (LTV) Modeling"
      ]
    },
    {
      "cell_type": "markdown",
      "metadata": {
        "id": "5x8QE12fhy7n"
      },
      "source": [
        "This notebook helps to:\n",
        "\n",
        "1. check feasibility of building LTV model;\n",
        "2. inspect dataset fields in order to identify relevant information for features and targets (labels);\n",
        "3. perform initial exploratory data analysis to identify insights that help with building LTV model.\n",
        "\n",
        "[Google Merchandize Store GA360 dataset](https://support.google.com/analytics/answer/7586738?hl=en) is used as an example."
      ]
    },
    {
      "cell_type": "markdown",
      "metadata": {
        "id": "sl3Ay6D2iCCv"
      },
      "source": [
        "### Requirements\n",
        "\n",
        "* [Google Analytics dataset stored in BigQuery.](https://support.google.com/analytics/answer/3437618?hl=en)"
      ]
    },
    {
      "cell_type": "markdown",
      "metadata": {
        "id": "yEDkrDpPhkDn"
      },
      "source": [
        "### Install and import required modules"
      ]
    },
    {
      "cell_type": "code",
      "execution_count": null,
      "metadata": {
        "id": "JJ04QehNiUi1"
      },
      "outputs": [],
      "source": [
        "# Uncomment to install required python modules\n",
        "# !sh ../utils/setup.sh"
      ]
    },
    {
      "cell_type": "code",
      "execution_count": null,
      "metadata": {
        "id": "Dg-guLgXeVJZ"
      },
      "outputs": [],
      "source": [
        "# Add custom utils module to Python environment\n",
        "import os\n",
        "import sys\n",
        "sys.path.append(os.path.abspath(os.pardir))\n",
        "\n",
        "import pandas as pd\n",
        "\n",
        "from gps_building_blocks.cloud.utils import bigquery as bigquery_utils\n",
        "\n",
        "from utils import eda_ga\n",
        "from utils import helpers"
      ]
    },
    {
      "cell_type": "markdown",
      "metadata": {
        "id": "3OrWMSDahrLj"
      },
      "source": [
        "### Notebook custom settings"
      ]
    },
    {
      "cell_type": "code",
      "execution_count": null,
      "metadata": {
        "id": "aw9-CXwjhweQ"
      },
      "outputs": [],
      "source": [
        "# Prints all the outputs from cell (instead of using display each time)\n",
        "from IPython.core.interactiveshell import InteractiveShell\n",
        "InteractiveShell.ast_node_interactivity = 'all'"
      ]
    },
    {
      "cell_type": "markdown",
      "metadata": {
        "id": "S6Fi2H38h_SS"
      },
      "source": [
        "### Configuration"
      ]
    },
    {
      "cell_type": "markdown",
      "metadata": {
        "id": "8aVrdikLiUi4"
      },
      "source": [
        "Edit `config.yaml` to update GCP configuration that is used across the package."
      ]
    },
    {
      "cell_type": "markdown",
      "metadata": {
        "id": "SnsqKDEPQ7Dc"
      },
      "source": [
        "### Set parameters"
      ]
    },
    {
      "cell_type": "code",
      "execution_count": null,
      "metadata": {
        "id": "NJTOK-GhiUi4"
      },
      "outputs": [],
      "source": [
        "configs = helpers.get_configs('config.yaml')\n",
        "source_configs, dest_configs = configs.source, configs.destination\n",
        "\n",
        "# GCP project ID where queries and other computation will be run.\n",
        "PROJECT_ID = dest_configs.project_id\n",
        "# BigQuery dataset name to store query results (if needed).\n",
        "DATASET_NAME = dest_configs.dataset_name"
      ]
    },
    {
      "cell_type": "code",
      "execution_count": null,
      "metadata": {
        "id": "jJqoufsmW4V0"
      },
      "outputs": [],
      "source": [
        "# To specify how many rows to display when examining dataframes\n",
        "N_ROWS = 5"
      ]
    },
    {
      "cell_type": "code",
      "execution_count": null,
      "metadata": {
        "id": "4LsGtgRdiUi5"
      },
      "outputs": [],
      "source": [
        "params = {\n",
        "  'project': PROJECT_ID,\n",
        "  'dataset_path': f'{source_configs.project_id}.{source_configs.dataset_name}',\n",
        "  'verbose': True\n",
        "}"
      ]
    },
    {
      "cell_type": "markdown",
      "metadata": {
        "id": "IWbmazTwiUi5"
      },
      "source": [
        "First, we initialize Analysis with config parameters."
      ]
    },
    {
      "cell_type": "code",
      "execution_count": null,
      "metadata": {
        "id": "N522DNn7iUi5"
      },
      "outputs": [],
      "source": [
        "bq_utils = bigquery_utils.BigQueryUtils(project_id=PROJECT_ID)\n",
        "eda = eda_ga.Analysis(bq_utils=bq_utils, params=params)"
      ]
    },
    {
      "cell_type": "markdown",
      "metadata": {
        "id": "xKVPIT52iUi6"
      },
      "source": [
        "### 1. Define the business and ML problem\n",
        "\n",
        "Before proceeding into EDA for LTV Modeling, define the business problem and questions that need to be addressed by the LTV Model. Following are some high-level questions to answer before doing EDA:\n",
        "* What is the business problem you are trying to solve?\n",
        "* What are the success criteria of the project?\n",
        "* What target do you want to predict?\n",
        "* What are the essential fields to consider as the potential features?"
      ]
    },
    {
      "cell_type": "markdown",
      "metadata": {
        "id": "y9dyX9X4CdVh"
      },
      "source": [
        "### 2. Extract dataset schema and field descriptions\n",
        "\n",
        "Following is an example of GA360 dataset schema and field descriptions [more details](https://support.google.com/analytics/answer/3437719?hl=en#) read into Pandas DataFrame for reference:"
      ]
    },
    {
      "cell_type": "code",
      "execution_count": null,
      "metadata": {
        "id": "pRM5FKolCiIw"
      },
      "outputs": [],
      "source": [
        "schema_html = 'https://support.google.com/analytics/answer/3437719?hl=en#'\n",
        "df_schema = pd.read_html(schema_html)[0]\n",
        "df_schema"
      ]
    },
    {
      "cell_type": "markdown",
      "metadata": {
        "id": "QLXgWP8oEv6q"
      },
      "source": [
        "### 3. Understand Dataset Structure\n",
        "\n",
        "This section helps to answer the following questions:\n",
        "\n",
        "* Is the dataset description available, and what does it say?\n",
        "* How long does the dataset stretch for, i.e., what is the entire period, and how many daily tables does it have?\n",
        "* How big are the daily tables?\n",
        "* Are there any missing days?\n",
        "\n",
        "If the data is stored in BigQuery, then its schema can be extracted via [INFORMATION_SCHEMA](https://cloud.google.com/bigquery/docs/information-schema-tables)."
      ]
    },
    {
      "cell_type": "code",
      "execution_count": null,
      "metadata": {
        "id": "X0Wpv_7riUi8"
      },
      "outputs": [],
      "source": [
        "table_options, description = eda.get_ds_description()"
      ]
    },
    {
      "cell_type": "markdown",
      "metadata": {
        "id": "GlPsCv_lXKXt"
      },
      "source": [
        "### Check daily tables"
      ]
    },
    {
      "cell_type": "code",
      "execution_count": null,
      "metadata": {
        "id": "0rUTbcD9XNOk"
      },
      "outputs": [],
      "source": [
        "tables = eda.get_tables_stats()"
      ]
    },
    {
      "cell_type": "markdown",
      "metadata": {
        "id": "n4qk8Bm4XQHY"
      },
      "source": [
        "### Inspect sizes of the tables"
      ]
    },
    {
      "cell_type": "code",
      "execution_count": null,
      "metadata": {
        "id": "G8wCAzdQXOks"
      },
      "outputs": [],
      "source": [
        "# First set of tables.\n",
        "tables[:N_ROWS]"
      ]
    },
    {
      "cell_type": "code",
      "execution_count": null,
      "metadata": {
        "id": "LKqzC4WkXS0Y"
      },
      "outputs": [],
      "source": [
        "# Last set of tables.\n",
        "tables[-N_ROWS:]"
      ]
    },
    {
      "cell_type": "markdown",
      "metadata": {
        "id": "0UNhGL_RXUsG"
      },
      "source": [
        "### Check if there are missing tables"
      ]
    },
    {
      "cell_type": "code",
      "execution_count": null,
      "metadata": {
        "id": "R0URtpzqXWx5"
      },
      "outputs": [],
      "source": [
        "# Filter tables to analyse permanent `daily sessions` only\n",
        "mask_not_intraday = (~tables['is_intraday'])\n",
        "table_name = source_configs.table_name.replace('_*', '')\n",
        "mask_sessions = tables['table_id'].str.startswith(table_name)\n",
        "tables_permanent = tables[mask_sessions \u0026 mask_not_intraday].sort_values(\n",
        "          'table_id', ascending=True)\n",
        "\n",
        "helpers.generate_date_range_stats(tables_permanent['last_suffix'])"
      ]
    },
    {
      "cell_type": "markdown",
      "metadata": {
        "id": "7YB-925tnLj4"
      },
      "source": [
        "# References\n",
        "\n",
        "* [Google Analytics Glossary](https://support.google.com/analytics/topic/6083659?hl=en\u0026ref_topic=3544906)\n",
        "\n",
        "* [Interactive visualization of the Google Analytics 360 BigQuery Export schema.](https://storage.googleapis.com/e-nor/visualizations/bigquery/ga360-schema.html#section-collapsible-tree)"
      ]
    }
  ],
  "metadata": {
    "colab": {
      "collapsed_sections": [],
      "name": "1.eda_ga.ipynb",
      "private_outputs": true,
      "provenance": [
        {
          "file_id": "/piper/depot/google3/third_party/professional_services/solutions/compass/packages/propensity/1.eda.ipynb?workspaceId=szczecinski:dev_eda::citc",
          "timestamp": 1631592026428
        },
        {
          "file_id": "/piper/depot/google3/third_party/professional_services/solutions/compass/packages/propensity/1.eda.ipynb?workspaceId=szczecinski:dev_eda::citc",
          "timestamp": 1631125536764
        },
        {
          "file_id": "/piper/depot/google3/third_party/professional_services/solutions/compass/packages/propensity/1.eda.ipynb?workspaceId=szczecinski:dev_eda::citc",
          "timestamp": 1631123855041
        }
      ]
    },
    "environment": {
      "kernel": "python3",
      "name": "common-cpu.m87",
      "type": "gcloud",
      "uri": "gcr.io/deeplearning-platform-release/base-cpu:m87"
    },
    "kernelspec": {
      "display_name": "Python 3",
      "language": "python",
      "name": "python3"
    },
    "language_info": {
      "codemirror_mode": {
        "name": "ipython",
        "version": 3
      },
      "file_extension": ".py",
      "mimetype": "text/x-python",
      "name": "python",
      "nbconvert_exporter": "python",
      "pygments_lexer": "ipython3",
      "version": "3.7.12"
    }
  },
  "nbformat": 4,
  "nbformat_minor": 0
}
