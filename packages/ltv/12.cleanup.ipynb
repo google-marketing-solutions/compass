{
  "cells": [
    {
      "cell_type": "code",
      "execution_count": null,
      "metadata": {
        "id": "d3b70052-717e-453b-b05d-6dc195ffd19c"
      },
      "outputs": [],
      "source": [
        "# Copyright 2022 Google LLC.\n",
        "# Licensed under the Apache License, Version 2.0 (the \"License\");\n",
        "# you may not use this file except in compliance with the License.\n",
        "# You may obtain a copy of the License at\n",
        "#\n",
        "# https://www.apache.org/licenses/LICENSE-2.0\n",
        "#\n",
        "# Unless required by applicable law or agreed to in writing, software\n",
        "# distributed under the License is distributed on an \"AS IS\" BASIS,\n",
        "# WITHOUT WARRANTIES OR CONDITIONS OF ANY KIND, either express or implied.\n",
        "# See the License for the specific language governing permissions and\n",
        "# limitations under the License."
      ]
    },
    {
      "cell_type": "markdown",
      "metadata": {
        "id": "fb432517-b541-474f-9fe8-b84aa768c613"
      },
      "source": [
        "# 12. Cleanup BigQuery artifacts\n",
        "\n",
        "This notebook helps to clean up interim tables generated while executing notebooks from `01` to `09`."
      ]
    },
    {
      "cell_type": "markdown",
      "metadata": {
        "id": "5d8d54a6-80db-44c6-a759-477677e6cb0a",
        "tags": []
      },
      "source": [
        "### Import required modules"
      ]
    },
    {
      "cell_type": "code",
      "execution_count": null,
      "metadata": {
        "id": "84168e78-3de2-4e54-ad5c-4cfab2ba5f15"
      },
      "outputs": [],
      "source": [
        "from google.cloud import bigquery"
      ]
    },
    {
      "cell_type": "markdown",
      "metadata": {
        "id": "6f75bdc4-6ab3-4087-b7f8-76810b4b975c"
      },
      "source": [
        "### Set parameters"
      ]
    },
    {
      "cell_type": "code",
      "execution_count": null,
      "metadata": {
        "id": "45b96a2e-00f5-4da3-b7dd-edd772f57d02"
      },
      "outputs": [],
      "source": [
        "# GCP project ID where queries and other computation will be run.\n",
        "PROJECT_ID = dest_configs.project_id\n",
        "# BigQuery dataset name to store query results (if needed).\n",
        "DATASET_NAME = dest_configs.dataset_name"
      ]
    },
    {
      "cell_type": "markdown",
      "metadata": {
        "id": "b91d7d3a-fe3f-4d7a-b69d-45789b33ebf6"
      },
      "source": [
        "### List all tables in the BigQuery Dataset"
      ]
    },
    {
      "cell_type": "code",
      "execution_count": null,
      "metadata": {
        "id": "bef2699b-5b7d-4855-8112-44ef21f0f35f"
      },
      "outputs": [],
      "source": [
        "# Initialize BigQuery Client.\n",
        "bq_client = bigquery.Client()"
      ]
    },
    {
      "cell_type": "code",
      "execution_count": null,
      "metadata": {
        "id": "9c22008e-6aad-4f32-968b-6e2049cbd031"
      },
      "outputs": [],
      "source": [
        "all_tables = []\n",
        "for table in bq_client.list_tables(DATASET_NAME):\n",
        "  all_tables.append(table.table_id)\n",
        "\n",
        "print(all_tables)"
      ]
    },
    {
      "cell_type": "markdown",
      "metadata": {
        "id": "f4365a6e-73d5-408e-9b97-78920ebba036"
      },
      "source": [
        "### Remove list of tables"
      ]
    },
    {
      "cell_type": "code",
      "execution_count": null,
      "metadata": {
        "id": "bd12b2c3-b0f1-4402-beae-8bc534c2a2a0"
      },
      "outputs": [],
      "source": [
        "# Define tables to remove.\n",
        "tables_to_delete = [\n",
        " 'features_SCORE_01',\n",
        " 'features_dev_table_01',\n",
        " 'features_split_01',\n",
        " 'features_test_table_01',\n",
        " 'instances_01',\n",
        " 'numeric_facts_01',\n",
        " 'predictions_table',\n",
        " 'scored_SCORE_01',\n",
        " 'sessions_01',\n",
        " 'sessions_SCORE_01',\n",
        " 'windows_01',\n",
        " 'windows_SCORE_01'\n",
        "]"
      ]
    },
    {
      "cell_type": "code",
      "execution_count": null,
      "metadata": {
        "id": "85b491ff-caf0-402a-bf15-b8237a8006b2"
      },
      "outputs": [],
      "source": [
        "# Remove tables from BigQuery dataset.\n",
        "for table_id in tables_to_delete:\n",
        "  bq_client.delete_table(f'{PROJECT_ID}.{DATASET_NAME}.{table_id}')"
      ]
    }
  ],
  "metadata": {
    "colab": {
      "collapsed_sections": [],
      "name": "12.cleanup.ipynb",
      "provenance": []
    },
    "environment": {
      "kernel": "python3",
      "name": "common-cpu.m91",
      "type": "gcloud",
      "uri": "gcr.io/deeplearning-platform-release/base-cpu:m91"
    },
    "kernelspec": {
      "display_name": "Python 3",
      "language": "python",
      "name": "python3"
    },
    "language_info": {
      "codemirror_mode": {
        "name": "ipython",
        "version": 3
      },
      "file_extension": ".py",
      "mimetype": "text/x-python",
      "name": "python",
      "nbconvert_exporter": "python",
      "pygments_lexer": "ipython3",
      "version": "3.7.12"
    }
  },
  "nbformat": 4,
  "nbformat_minor": 0
}
