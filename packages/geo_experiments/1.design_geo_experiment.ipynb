{
  "cells": [
    {
      "cell_type": "markdown",
      "id": "20c9532e-2014-4247-8e9e-88c732beeaca",
      "metadata": {
        "id": "20c9532e-2014-4247-8e9e-88c732beeaca",
        "tags": []
      },
      "source": [
        "Copyright 2022 Google LLC..\n",
        "\n",
        "Licensed under the Apache License, Version 2.0 (the \"License\");\n",
        "you may not use this file except in compliance with the License.\n",
        "You may obtain a copy of the License at\n",
        "\n",
        "     http://www.apache.org/licenses/LICENSE-2.0\n",
        "\n",
        "Unless required by applicable law or agreed to in writing, software\n",
        "distributed under the License is distributed on an \"AS IS\" BASIS,\n",
        "WITHOUT WARRANTIES OR CONDITIONS OF ANY KIND, either express or implied.\n",
        "See the License for the specific language governing permissions and\n",
        "limitations under the License."
      ]
    },
    {
      "cell_type": "markdown",
      "id": "e04c4d4c-6322-468b-ae65-256bf66498a0",
      "metadata": {
        "id": "e04c4d4c-6322-468b-ae65-256bf66498a0"
      },
      "source": [
        "# Design geo experiment\n",
        "\n",
        "This notebook analyses pre-existing kpi data to determine the right parameters for running a geo experiment.\n",
        "That is, the selection of Test and Control geos and the determination of minimum expect/uplift size helping\n",
        "to estimate the minimum experiment budget."
      ]
    },
    {
      "cell_type": "markdown",
      "id": "060e3e83-984a-478c-bcb5-bca34ae34540",
      "metadata": {
        "id": "060e3e83-984a-478c-bcb5-bca34ae34540"
      },
      "source": [
        "### Requirements\n",
        "\n",
        "Historical daily kpi data at the geo level (for the last 3-6 months, 12 months is ideal)."
      ]
    },
    {
      "cell_type": "markdown",
      "id": "ae6c06da-e681-4591-87c0-5ce5b199ae08",
      "metadata": {
        "id": "ae6c06da-e681-4591-87c0-5ce5b199ae08"
      },
      "source": [
        "### Install and import required modules"
      ]
    },
    {
      "cell_type": "code",
      "execution_count": null,
      "id": "16ae6e66-19ba-49ff-b11a-3026f38def1e",
      "metadata": {
        "id": "16ae6e66-19ba-49ff-b11a-3026f38def1e"
      },
      "outputs": [],
      "source": [
        "import pandas as pd\n",
        "import numpy as np\n",
        "from utils import run_ci\n",
        "import seaborn as sns\n",
        "from tqdm import tqdm\n",
        "import warnings\n",
        "from IPython.display import display\n",
        "warnings.filterwarnings('ignore')"
      ]
    },
    {
      "cell_type": "markdown",
      "id": "02b25ed9-d60c-48e2-b7c0-237214a1ce62",
      "metadata": {
        "id": "02b25ed9-d60c-48e2-b7c0-237214a1ce62"
      },
      "source": [
        "### Set parameters"
      ]
    },
    {
      "cell_type": "code",
      "execution_count": null,
      "id": "44a01523-a005-462a-b505-a8a16f504e90",
      "metadata": {
        "id": "44a01523-a005-462a-b505-a8a16f504e90",
        "tags": []
      },
      "outputs": [],
      "source": [
        "# Inputs\n",
        "pre_data_csv = 'data/dummy_pre_data.csv'"
      ]
    },
    {
      "cell_type": "markdown",
      "id": "895588ba-f776-4e3a-8b46-3495f4acb4fc",
      "metadata": {
        "id": "895588ba-f776-4e3a-8b46-3495f4acb4fc",
        "tags": []
      },
      "source": [
        "## Load data"
      ]
    },
    {
      "cell_type": "code",
      "execution_count": null,
      "id": "fc1c835a-b0f9-45ea-bc16-fb0f6d949e15",
      "metadata": {
        "id": "fc1c835a-b0f9-45ea-bc16-fb0f6d949e15",
        "tags": []
      },
      "outputs": [],
      "source": [
        "data = pd.read_csv(pre_data_csv, parse_dates=['Date'], index_col='Date')\n",
        "data.head()"
      ]
    },
    {
      "cell_type": "markdown",
      "id": "d722cf39-d907-4b87-a923-053ce14c2dca",
      "metadata": {
        "id": "d722cf39-d907-4b87-a923-053ce14c2dca",
        "tags": []
      },
      "source": [
        "## Examine data"
      ]
    },
    {
      "cell_type": "code",
      "execution_count": null,
      "id": "f51e8855-f8c0-4c92-8e18-512abcabce4c",
      "metadata": {
        "id": "f51e8855-f8c0-4c92-8e18-512abcabce4c",
        "tags": []
      },
      "outputs": [],
      "source": [
        "# Period of data\n",
        "print(min(data.index).date(), max(data.index).date())"
      ]
    },
    {
      "cell_type": "code",
      "execution_count": null,
      "id": "2aea23a3-07df-4c76-b61b-552b58bd23ab",
      "metadata": {
        "id": "2aea23a3-07df-4c76-b61b-552b58bd23ab",
        "tags": []
      },
      "outputs": [],
      "source": [
        "# Plot the time series of the data and examine for any inconsistency\n",
        "data.plot(figsize=(20, 7))"
      ]
    },
    {
      "cell_type": "code",
      "execution_count": null,
      "id": "6fd5bb6b-6a9d-41c6-a855-c19ce64ffb78",
      "metadata": {
        "id": "6fd5bb6b-6a9d-41c6-a855-c19ce64ffb78",
        "tags": []
      },
      "outputs": [],
      "source": [
        "# Check correlations between time seties data\n",
        "data_corr = data.corr()\n",
        "data_corr.round(3)"
      ]
    },
    {
      "cell_type": "code",
      "execution_count": null,
      "id": "25468009-fdae-467e-aa70-561d0c20ad5a",
      "metadata": {
        "id": "25468009-fdae-467e-aa70-561d0c20ad5a",
        "tags": []
      },
      "outputs": [],
      "source": [
        "# Generate a custom diverging colormap of correlations\n",
        "cmap = sns.diverging_palette(230, 20, as_cmap=True)\n",
        "\n",
        "sns.heatmap(data_corr, cmap=cmap)"
      ]
    },
    {
      "cell_type": "markdown",
      "id": "faf9ffac-096d-4530-955e-2830cd69bc94",
      "metadata": {
        "id": "faf9ffac-096d-4530-955e-2830cd69bc94",
        "tags": []
      },
      "source": [
        "### Select Test and Control geos\n",
        "\n",
        "#### Using the correlations and business decisions:\n",
        "Test and Control geos can be selected by simply using the correlation between\n",
        "time series data calculated above. That is, we can select pair of Geos having\n",
        "high correlations and select the Test and Control geos from them. In order to\n",
        "train a good counterfactual model (to obtain more reliable results at the post\n",
        "analysis), having a high correlation between Test and Control time series is important. Therefore, as a general rule of thumb, we can use 0.6 or 0.7 as the\n",
        "minimum correlation when selecting Test and Control geos. In addition, sometimes,\n",
        "we'll have to filter out some Geos we select further due to the important\n",
        "business considerations.\n",
        "\n",
        "Let's use 0.7 mimimum correlation to select the Test and Control geos for\n",
        "this use case and assume there are no other business considerations affecting\n",
        "geo selection."
      ]
    },
    {
      "cell_type": "code",
      "execution_count": null,
      "id": "52ae2ae2-f3a9-4f25-84bb-8f85540b6452",
      "metadata": {
        "id": "52ae2ae2-f3a9-4f25-84bb-8f85540b6452",
        "tags": []
      },
      "outputs": [],
      "source": [
        "correlation_threshold = 0.7\n",
        "\n",
        "data_corr_melt = data_corr.reset_index().melt(id_vars='index')\n",
        "\n",
        "data_corr_melt.columns = ['Geo X', 'Geo Y', 'corr']\n",
        "\n",
        "high_corr_geos =\\\n",
        "    data_corr_melt[(data_corr_melt['corr'] \u003e= correlation_threshold) \u0026\n",
        "                   (data_corr_melt['Geo X'] != data_corr_melt['Geo Y'])]\\\n",
        "    .sort_values('Geo X')\n",
        "\n",
        "high_corr_geos.round(3)"
      ]
    },
    {
      "cell_type": "code",
      "execution_count": null,
      "id": "24855803-18dd-4670-a346-adbcf0345804",
      "metadata": {
        "id": "24855803-18dd-4670-a346-adbcf0345804",
        "tags": []
      },
      "outputs": [],
      "source": [
        "# From above results let's say we select the following Test and Control geos\n",
        "# These geos are further validated below\n",
        "\n",
        "tentative_test_geos = ['Geo_1', 'Geo_3']\n",
        "tentative_control_geos = ['Geo_4', 'Geo_5', 'Geo_6']"
      ]
    },
    {
      "cell_type": "markdown",
      "id": "e5de82d0-c587-4dcd-af16-da6d4bd7d334",
      "metadata": {
        "id": "e5de82d0-c587-4dcd-af16-da6d4bd7d334",
        "jp-MarkdownHeadingCollapsed": true,
        "tags": []
      },
      "source": [
        "### Why do we need to validate?\n",
        "\n",
        "Further validation of the selected Test and Control geos is required because while a good correlation with the test geo in the pre period is necessary for a good control, it is not sufficient. The time series model (predicting test from control geos) should perform well and be have well-behaved residuals. Validating the test and control geos in the pre period also serves as an 'A/A' test - we should not observe significant uplift between the actual test kpi and it's counterfactual prediction in the pre period."
      ]
    },
    {
      "cell_type": "markdown",
      "id": "5dd538ff-0af7-4215-9251-ceac6b171595",
      "metadata": {
        "id": "5dd538ff-0af7-4215-9251-ceac6b171595",
        "tags": []
      },
      "source": [
        "### Validate the Test and Control geos\n",
        "\n",
        "In this step we further validate the Test and Control geo combinations selected\n",
        "tentatively above. Here, for each Test and Control geo combination, we run the\n",
        "counterfactual analysis using historical data as outlined below:\n",
        "\n",
        "1. Select a pre period and a post period based on some arbitrary date (as a rule of thumb we can use the last 4-8 weeks as the post period)\n",
        "2. Select the control time series having correlations greater than some threshold (by tighting or loosening this threshold we can further fine tune the selected geos)\n",
        "3. Train a structural time series model on the pre period data\n",
        "4. Make the counterfactual prediction on the post period and estimate the uplift\n",
        "5. Determine whether the selected test and control geo combination is sufficient\n",
        "\n",
        "For each Test geo, the selected Control geos are sufficient if they satisfy the following criteria:\n",
        "1. The time series model trained is good (high r-squared value (\u003e=0.6), low mape, close match of the predicted vs actual values, residuals and distributed evenly around zero, etc.)\n",
        "2. There is no statistically significant uplift observed for the post period"
      ]
    },
    {
      "cell_type": "code",
      "execution_count": null,
      "id": "427e97f8-af3f-4c7f-88f2-7d5c2202e77a",
      "metadata": {
        "id": "427e97f8-af3f-4c7f-88f2-7d5c2202e77a",
        "tags": []
      },
      "outputs": [],
      "source": [
        "# Fake intervention date\n",
        "post_start_date = '2018-10-01'\n",
        "\n",
        "# Replace this with desired pre start\n",
        "pre_start_date = str(min(data.index).date())\n",
        "\n",
        "# Replace this with desired post end\n",
        "post_end_date = str(max(data.index).date())\n",
        "\n",
        "pre_end_date = str(pd.to_datetime(post_start_date) - pd.Timedelta(1, 'D'))"
      ]
    },
    {
      "cell_type": "code",
      "execution_count": null,
      "id": "50e99ccb-7e60-4c06-bf60-11d2430399aa",
      "metadata": {
        "id": "50e99ccb-7e60-4c06-bf60-11d2430399aa",
        "tags": []
      },
      "outputs": [],
      "source": [
        "df = data.reset_index()"
      ]
    },
    {
      "cell_type": "code",
      "execution_count": null,
      "id": "6b780cbb-6487-4aa2-80d7-f45c0fc630c4",
      "metadata": {
        "id": "6b780cbb-6487-4aa2-80d7-f45c0fc630c4",
        "tags": []
      },
      "outputs": [],
      "source": [
        "min_model_r_squared = 0.6\n",
        "\n",
        "selected_control_geos = []\n",
        "model_diagnostics_metrics = []\n",
        "cumulative_effect_upper = []\n",
        "cumulative_effect_lower = []\n",
        "min_cumulative_effect_size = []\n",
        "acceptable_test_control = []\n",
        "\n",
        "for tentative_test_geo in tqdm(tentative_test_geos):\n",
        "    ci_out = run_ci.run_ci_analysis(input_params=run_ci.CausalImpactInput(\n",
        "        df=data.reset_index(),\n",
        "        date_col='Date',\n",
        "        test_col=tentative_test_geo,\n",
        "        control_cols=tentative_control_geos,\n",
        "        pre_period=[pre_start_date, pre_end_date],\n",
        "        post_period=[post_start_date, post_end_date],\n",
        "        corr_threshold=0.7,\n",
        "        confidence_level=0.95))\n",
        "\n",
        "    print('\\n----------------------------------------------------------------')\n",
        "\n",
        "    print_results = {'Test geo =': ci_out.test_col,\n",
        "              'Selected control geos =': ci_out.selected_control_cols,\n",
        "              'Model diagnostics metrics =': ci_out.diag_metrics,\n",
        "             }\n",
        "    display(print_results)\n",
        "\n",
        "    print('Test and control correlations:')\n",
        "    print(ci_out.test_control_corr)\n",
        "\n",
        "    print('Time series plots:')\n",
        "    ci_out.ts_plot.get_figure()\n",
        "\n",
        "    print('CausalImpact analysis results:')\n",
        "    ci_out.ci_results.plot()\n",
        "    print(ci_out.ci_results.summary())\n",
        "\n",
        "    selected_control_geos.append(ci_out.selected_control_cols)\n",
        "    model_diagnostics_metrics.append(ci_out.diag_metrics)\n",
        "    cumulative_effect_lower\\\n",
        "        .append(ci_out.ci_results.inferences.post_cum_effects_lower[-1])\n",
        "    cumulative_effect_upper\\\n",
        "        .append(ci_out.ci_results.inferences.post_cum_effects_upper[-1])\n",
        "    min_cumulative_effect_size.append(\n",
        "        ci_out.ci_results.inferences.post_cum_effects[-1] -\n",
        "        ci_out.ci_results.inferences.post_cum_effects_lower[-1])\n",
        "\n",
        "    if((ci_out.diag_metrics['r-squared'] \u003e= min_model_r_squared) \u0026\n",
        "        (ci_out.ci_results.inferences.post_cum_effects_upper[-1] \u003e 0) \u0026\n",
        "        (ci_out.ci_results.inferences.post_cum_effects_lower[-1] \u003c 0)):\n",
        "        acceptable_test_control.append(True)\n",
        "    else:\n",
        "        acceptable_test_control.append(False)\n",
        "\n",
        "sim_results =\\\n",
        "    pd.DataFrame({'Test geo': tentative_test_geos,\n",
        "                  'Selected control geos': selected_control_geos,\n",
        "                  'Model disgnostics metrics': model_diagnostics_metrics,\n",
        "                  'Post cumulative effect lower bound':\n",
        "                      cumulative_effect_lower,\n",
        "                  'Post cumulative effect upper bound':\n",
        "                      cumulative_effect_upper,\n",
        "                  'Sufficient test and control setting':\n",
        "                      acceptable_test_control,\n",
        "                  'Min estimated effect size': min_cumulative_effect_size})"
      ]
    },
    {
      "cell_type": "code",
      "execution_count": null,
      "id": "abec3eff-a6c4-4a83-af02-e18ae2d79b77",
      "metadata": {
        "id": "abec3eff-a6c4-4a83-af02-e18ae2d79b77"
      },
      "outputs": [],
      "source": [
        "sim_results"
      ]
    },
    {
      "cell_type": "markdown",
      "id": "c59de1f0-e1b4-46bb-9a5f-430a879d3d5c",
      "metadata": {
        "id": "c59de1f0-e1b4-46bb-9a5f-430a879d3d5c",
        "tags": []
      },
      "source": [
        "## Final test and control geo selections\n",
        "\n",
        "From the above results we finally select the following test and control geo combinations (having higher model accuracies and no observed impact\n",
        "in the simulated post period) for our experiment:"
      ]
    },
    {
      "cell_type": "code",
      "execution_count": null,
      "id": "90d9a163-d8fe-4b70-b53f-b49a591eb719",
      "metadata": {
        "id": "90d9a163-d8fe-4b70-b53f-b49a591eb719",
        "tags": []
      },
      "outputs": [],
      "source": [
        "sim_results.loc[sim_results['Sufficient test and control setting'],\n",
        "                ['Test geo', 'Selected control geos']]"
      ]
    },
    {
      "cell_type": "markdown",
      "id": "8d693335-a7f7-4f5a-bfdb-82f94943fb07",
      "metadata": {
        "id": "8d693335-a7f7-4f5a-bfdb-82f94943fb07",
        "tags": []
      },
      "source": [
        "## Minimum effect size\n",
        "Given the historical KPI variances in the selected geos, we require a minimum uplift at least as large as this to be considered significant:"
      ]
    },
    {
      "cell_type": "code",
      "execution_count": null,
      "id": "aaae896e-c284-47db-80f9-29943ceed919",
      "metadata": {
        "id": "aaae896e-c284-47db-80f9-29943ceed919"
      },
      "outputs": [],
      "source": [
        "min_uplift =\\\n",
        "    np.round(sim_results['Min estimated effect size'].max()).astype(int)\n",
        "\n",
        "min_uplift"
      ]
    },
    {
      "cell_type": "markdown",
      "id": "e4a4b9b1-1aff-4cf1-99d8-71431ef03423",
      "metadata": {
        "id": "e4a4b9b1-1aff-4cf1-99d8-71431ef03423"
      },
      "source": [
        "We can use this to estimate the required level of investment if we assume some expected value of the ROI:"
      ]
    },
    {
      "cell_type": "code",
      "execution_count": null,
      "id": "83f288ca-60c1-4e36-98c8-964083dfa181",
      "metadata": {
        "id": "83f288ca-60c1-4e36-98c8-964083dfa181"
      },
      "outputs": [],
      "source": [
        "expected_roi = 1.2\n",
        "\n",
        "min_investment = min_uplift / expected_roi\n",
        "\n",
        "np.round(min_investment).astype(int)"
      ]
    }
  ],
  "metadata": {
    "colab": {
      "collapsed_sections": [],
      "name": "1.design_geo_experiment.ipynb",
      "provenance": []
    },
    "environment": {
      "kernel": "python3",
      "name": "tf2-gpu.2-6.m87",
      "type": "gcloud",
      "uri": "gcr.io/deeplearning-platform-release/tf2-gpu.2-6:m87"
    },
    "kernelspec": {
      "display_name": "Python 3 (ipykernel)",
      "language": "python",
      "name": "python3"
    },
    "language_info": {
      "codemirror_mode": {
        "name": "ipython",
        "version": 3
      },
      "file_extension": ".py",
      "mimetype": "text/x-python",
      "name": "python",
      "nbconvert_exporter": "python",
      "pygments_lexer": "ipython3",
      "version": "3.9.2"
    },
    "papermill": {
      "environment_variables": {},
      "parameters": {
        "product": {
          "nb": "/home/jupyter/causal_impact/html/design-geo-experiment.html"
        }
      },
      "version": null
    }
  },
  "nbformat": 4,
  "nbformat_minor": 5
}
