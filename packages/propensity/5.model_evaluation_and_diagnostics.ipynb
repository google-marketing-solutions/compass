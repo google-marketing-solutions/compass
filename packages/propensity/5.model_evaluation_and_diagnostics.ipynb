{
  "cells": [
    {
      "cell_type": "code",
      "execution_count": null,
      "id": "IkiV_pdlWueh",
      "metadata": {
        "id": "IkiV_pdlWueh"
      },
      "outputs": [],
      "source": [
        "# Copyright 2021 Google LLC.\n",
        "# Licensed under the Apache License, Version 2.0 (the \"License\");\n",
        "# you may not use this file except in compliance with the License.\n",
        "# You may obtain a copy of the License at\n",
        "#\n",
        "# https://www.apache.org/licenses/LICENSE-2.0\n",
        "#\n",
        "# Unless required by applicable law or agreed to in writing, software\n",
        "# distributed under the License is distributed on an \"AS IS\" BASIS,\n",
        "# WITHOUT WARRANTIES OR CONDITIONS OF ANY KIND, either express or implied.\n",
        "# See the License for the specific language governing permissions and\n",
        "# limitations under the License."
      ]
    },
    {
      "cell_type": "markdown",
      "id": "1T9SjaWajk8u",
      "metadata": {
        "id": "1T9SjaWajk8u"
      },
      "source": [
        "# 5. Model Evaluation and Diagnostics"
      ]
    },
    {
      "cell_type": "markdown",
      "id": "3QIn2Cnwjk8u",
      "metadata": {
        "id": "3QIn2Cnwjk8u"
      },
      "source": [
        "This notebook demonstrates the evaluation of a propensity model by using the\n",
        "[Binary Classication Diagnostics](https://github.com/google/gps_building_blocks/blob/master/py/gps_building_blocks/ml/diagnostics/binary_classification.py)\n",
        "module.\n",
        "\n",
        "This evaluation consists of:\n",
        "* Model performance with respect to a variety of metrics.\n",
        "* Plots to understand the model performance in relation to the different propensity groups helping to design media experiments.\n",
        "* Model insights (the relationship between features and the predictions/label) helping to generate new business insights.\n",
        "* Insights helping to diagnose the model to make sure it is reasonable (e.g. no label leakage in features).\n",
        "\n",
        "**Requirements:** The model and the Testing dataset should be available in GCP BigQuery."
      ]
    },
    {
      "cell_type": "markdown",
      "id": "VXlQFF6Zjk8u",
      "metadata": {
        "id": "VXlQFF6Zjk8u"
      },
      "source": [
        "## Install and import required modules"
      ]
    },
    {
      "cell_type": "code",
      "execution_count": null,
      "id": "NqRwq_Jvjk8v",
      "metadata": {
        "id": "NqRwq_Jvjk8v"
      },
      "outputs": [],
      "source": [
        "# Install gps_building_blocks package if not installed\n",
        "# !pip install gps_building_blocks"
      ]
    },
    {
      "cell_type": "code",
      "execution_count": null,
      "id": "ckvBnJBMjk8v",
      "metadata": {
        "id": "ckvBnJBMjk8v"
      },
      "outputs": [],
      "source": [
        "import google.auth\n",
        "from google.cloud import bigquery\n",
        "from google.cloud import bigquery_storage_v1beta1\n",
        "\n",
        "import pandas as pd\n",
        "import numpy as np\n",
        "\n",
        "from gps_building_blocks.ml.diagnostics import binary_classification"
      ]
    },
    {
      "cell_type": "code",
      "execution_count": null,
      "id": "F4kUowaHjk8w",
      "metadata": {
        "id": "F4kUowaHjk8w"
      },
      "outputs": [],
      "source": [
        "# Using storage api to speed up querying and loading of large dataframes.\n",
        "# Explicitly create a credentials object. This allows you to use the same\n",
        "# credentials for both the BigQuery and BigQuery Storage clients, avoiding\n",
        "# unnecessary API calls to fetch duplicate authentication tokens.\n",
        "credentials, your_project_id = google.auth.default(\n",
        "    scopes=[\"https://www.googleapis.com/auth/cloud-platform\"]\n",
        ")\n",
        "\n",
        "# Initialize clients.\n",
        "bq_client = bigquery.Client(\n",
        "    credentials=credentials,\n",
        "    project=your_project_id,\n",
        ")\n",
        "bqstorageclient = bigquery_storage_v1beta1.BigQueryStorageClient(\n",
        "    credentials=credentials\n",
        ")"
      ]
    },
    {
      "cell_type": "markdown",
      "id": "Z6E8kXqWjk8w",
      "metadata": {
        "id": "Z6E8kXqWjk8w"
      },
      "source": [
        "## Set paramaters"
      ]
    },
    {
      "cell_type": "code",
      "execution_count": null,
      "id": "bj0WzGgujk8x",
      "metadata": {
        "id": "bj0WzGgujk8x"
      },
      "outputs": [],
      "source": [
        "# GCP Project ID\n",
        "PROJECT_ID = 'project_id'\n",
        "# BigQuery dataset name\n",
        "DATASET = 'dataset'\n",
        "# BigQuery table (name) containing the testing dataset\n",
        "TEST_DATA_TABLE = 'ds_test_table'\n",
        "# BigQuery model name\n",
        "MODEL_NAME = 'propensity_model'\n",
        "# BigQuery dataset name containing the testing predictions dataset\n",
        "TEST_DATA_PREDICTIONS_DATASET = 'predictions_dataset'\n",
        "# BigQuery table name containing the testing predictions dataset\n",
        "TEST_DATA_PREDICTIONS_TABLE = 'predictions_table'\n",
        "# Name of the column in the prediction table with the predicted label\n",
        "PREDICTED_LABEL_NAME = 'predicted_label'\n",
        "# Name of the column in the prediction table with the actual label\n",
        "ACTUAL_LABEL_NAME = 'actual_label'"
      ]
    },
    {
      "cell_type": "markdown",
      "id": "Gw__AKkXjk8x",
      "metadata": {
        "id": "Gw__AKkXjk8x"
      },
      "source": [
        "## Run Model Diagnostics"
      ]
    },
    {
      "cell_type": "markdown",
      "id": "8T6qhxl5jk8x",
      "metadata": {
        "id": "8T6qhxl5jk8x"
      },
      "source": [
        "## Read the Predition Test Dataset (if already scored)\n",
        "\n",
        "In this step, we assume the prediction dataset is available as a BQ table, for example produced by AUTOML model using batch scoring. Following functions require a Pandas DataFrame with columns containing the binary label (1.0 and 0.0 values) and predicted probabilities (between 0.0 and 1.0) so we are going to transform loaded data into dataframe with this format."
      ]
    },
    {
      "cell_type": "code",
      "execution_count": null,
      "id": "iMU8lEFnjk8y",
      "metadata": {
        "id": "iMU8lEFnjk8y"
      },
      "outputs": [],
      "source": [
        "sql = f\"\"\"SELECT *\n",
        "FROM\n",
        "`{PROJECT_ID}.{TEST_DATA_PREDICTIONS_DATASET}.{TEST_DATA_PREDICTIONS_TABLE}`\"\"\"\n",
        "\n",
        "print('loading dataset...' + TEST_DATA_PREDICTIONS_DATASET)\n",
        "print (sql)\n",
        "df_prediction = (\n",
        "    bq_client.query(sql)\n",
        "    .result()\n",
        "    .to_dataframe(bqstorage_client=bqstorageclient)\n",
        ")"
      ]
    },
    {
      "cell_type": "markdown",
      "id": "pNhbm4ZAjk8y",
      "metadata": {
        "id": "pNhbm4ZAjk8y"
      },
      "source": [
        "### Check loaded outputs"
      ]
    },
    {
      "cell_type": "code",
      "execution_count": null,
      "id": "zcMYecDyjk8y",
      "metadata": {
        "id": "zcMYecDyjk8y"
      },
      "outputs": [],
      "source": [
        "df_prediction.shape"
      ]
    },
    {
      "cell_type": "code",
      "execution_count": null,
      "id": "IsXDkvecjk8y",
      "metadata": {
        "id": "IsXDkvecjk8y"
      },
      "outputs": [],
      "source": [
        "df_prediction.head()"
      ]
    },
    {
      "cell_type": "code",
      "execution_count": null,
      "id": "0uZ-HusEjk8z",
      "metadata": {
        "id": "0uZ-HusEjk8z"
      },
      "outputs": [],
      "source": [
        "df_prediction[ACTUAL_LABEL_NAME].value_counts()"
      ]
    },
    {
      "cell_type": "code",
      "execution_count": null,
      "id": "QtgpjS8ajk8z",
      "metadata": {
        "id": "QtgpjS8ajk8z"
      },
      "outputs": [],
      "source": [
        "# Extract score for predicting positive label.\n",
        "df_prediction['prob'] = [x[1]['tables']['score']\n",
        "                         for x in df_prediction[PREDICTED_LABEL_NAME]]\n",
        "# Change positive label into 1.0.\n",
        "df_prediction['label'] = [1.0 if label=='true' else 0.0\n",
        "                          for label in df_prediction[ACTUAL_LABEL_NAME]]"
      ]
    },
    {
      "cell_type": "markdown",
      "id": "JwYm1o4Djk8z",
      "metadata": {
        "id": "JwYm1o4Djk8z"
      },
      "source": [
        "### Check transformed outputs"
      ]
    },
    {
      "cell_type": "code",
      "execution_count": null,
      "id": "V1N0BXvEjk8z",
      "metadata": {
        "id": "V1N0BXvEjk8z"
      },
      "outputs": [],
      "source": [
        "df_prediction.head()"
      ]
    },
    {
      "cell_type": "code",
      "execution_count": null,
      "id": "UVsn0Ohwjk8z",
      "metadata": {
        "id": "UVsn0Ohwjk8z"
      },
      "outputs": [],
      "source": [
        "df_prediction['label'].value_counts()"
      ]
    },
    {
      "cell_type": "markdown",
      "id": "umIq032vjk8z",
      "metadata": {
        "id": "umIq032vjk8z"
      },
      "source": [
        "## Performance metrics\n",
        "\n",
        "The following function calculates following metrics:\n",
        "\n",
        "* prop_positives: Proportion of positive instances in the dataset scored\n",
        "* auc_roc: Area under the ROC curve (more on this below).\n",
        "* auc_pr: Area under the Precision Recall Curve (more on this below).\n",
        "* binarize_threshold: The probability threshold used to binarize the predictions to calculate the following performance metrics.\n",
        "* accuracy: overall accuracy of the predictions.\n",
        "* true_positive_rate: (Recall or Sensitivity) proportion of positive. instances correctly predicted out of all the positive instances in the dataset.\n",
        "* true_negative_rate: (Specificity) proportion of negative instances. correctly predicted out of all the negative instances in the dataset.\n",
        "* precision: (Confidence) proportion of positive instances correctly predicted out of all the instances predicted as positives.\n",
        "* f1_score: A weighted average between Precision and Recall."
      ]
    },
    {
      "cell_type": "code",
      "execution_count": null,
      "id": "QrKKSZgFjk80",
      "metadata": {
        "id": "QrKKSZgFjk80"
      },
      "outputs": [],
      "source": [
        "binary_classification.calc_performance_metrics(\n",
        "    labels = df_prediction['label'].values,\n",
        "    probability_predictions = df_prediction['prob'].values)"
      ]
    },
    {
      "cell_type": "markdown",
      "id": "TjIebVigjk80",
      "metadata": {
        "id": "TjIebVigjk80"
      },
      "source": [
        "## ROC Curve (True Positive Rate vs False Positive Rate)\n",
        "\n",
        "The following function plots the receiver operating characteristic (ROC) curve, which illustrates the relationship between true positive rate and false positive rate of the predictions from a binary classifier system. As the major metric to evaluate the ROC curve, the AUC (Area Under The Curve) is also printed."
      ]
    },
    {
      "cell_type": "code",
      "execution_count": null,
      "id": "nGO34EHSjk80",
      "metadata": {
        "id": "nGO34EHSjk80"
      },
      "outputs": [],
      "source": [
        "binary_classification.plot_roc_curve(\n",
        "    labels=df_prediction['label'].values,\n",
        "    probability_predictions=df_prediction['prob'].values)"
      ]
    },
    {
      "cell_type": "markdown",
      "id": "47226PLujk81",
      "metadata": {
        "id": "47226PLujk81"
      },
      "source": [
        "## Precision-Recall Curve\n",
        "\n",
        "The following function plots the precision-recall curve, which illustrates the relationship between the precision and recall of the predictions from a binary classifier system. In general a high precision rate relates to a low false positive rate, while a high recall rate relates to a low false negative rate. By showing the tradeoff between precision and recall with different thresholds on the predictions, we are able to find out the optimal threshold for the specific problem. Moreover, the Average Precision (AP), which calculates the area under the precision-recall curve, is also printed for the evaluation of precision recall curve."
      ]
    },
    {
      "cell_type": "code",
      "execution_count": null,
      "id": "tKtOGjIwjk81",
      "metadata": {
        "id": "tKtOGjIwjk81"
      },
      "outputs": [],
      "source": [
        "binary_classification.plot_precision_recall_curve(\n",
        "    labels=df_prediction['label'].values,\n",
        "    probability_predictions=df_prediction['prob'].values)"
      ]
    },
    {
      "cell_type": "markdown",
      "id": "jIsxgsnojk81",
      "metadata": {
        "id": "jIsxgsnojk81"
      },
      "source": [
        "## Predicted Probability Distributions\n",
        "\n",
        "The following function plots the distributions of predicted probabilities for each class. This illustrates how distinguishable the predicted probabilities for different classes are."
      ]
    },
    {
      "cell_type": "code",
      "execution_count": null,
      "id": "XrUgx-6jjk81",
      "metadata": {
        "id": "XrUgx-6jjk81"
      },
      "outputs": [],
      "source": [
        "binary_classification.plot_predicted_probabilities(\n",
        "    labels=df_prediction['label'].values,\n",
        "    probability_predictions=df_prediction['prob'].values)"
      ]
    },
    {
      "cell_type": "markdown",
      "id": "v0zGV328jk81",
      "metadata": {
        "id": "v0zGV328jk81"
      },
      "source": [
        "## Calculate and plot performance metrics for Bins of the Probabilities\n",
        "\n",
        "The following function does following:\n",
        "\n",
        "1. Sorts predicted probabilities in the descending order, then divides the instances into N number of equal sized bins (e.g. deciles when N = 10) such that the first bin has the instances with the highest probabilities and so on.\n",
        "2. Calculates the Precision, Precision Uplift (Precision of the bin divided by the proportion of positive instances in the dataset indicating the Precision of selecting a random sample of the size of the bin) and Coverage (or Recall = the proportion of positive instances in the bin out of all the positive instances in the dataset) for each bin.\n",
        "\n",
        "**Observations:** These plots can give a good understanding of the model performance for these different bins of the probability predictions. Generally we would expect to see a monotonically decreasing trend of these metrics going from the top bin to the bottom bin. If we see some different pattern from this plot, it would create some doubts of the quality of the model leading to further investigations."
      ]
    },
    {
      "cell_type": "code",
      "execution_count": null,
      "id": "pPSjuomMjk81",
      "metadata": {
        "id": "pPSjuomMjk81"
      },
      "outputs": [],
      "source": [
        "bin_metrics = binary_classification.calc_bin_metrics(\n",
        "    labels=df_prediction['label'].values,\n",
        "    probability_predictions=df_prediction['prob'].values,\n",
        "    number_bins = 100,\n",
        "    decimal_points=10)\n",
        "\n",
        "binary_classification.plot_bin_metrics(bin_metrics=bin_metrics, )"
      ]
    },
    {
      "cell_type": "code",
      "execution_count": null,
      "id": "xfbVUEH1jk82",
      "metadata": {
        "id": "xfbVUEH1jk82"
      },
      "outputs": [],
      "source": [
        "bin_metrics"
      ]
    },
    {
      "cell_type": "markdown",
      "id": "gZYl_TP9jk82",
      "metadata": {
        "id": "gZYl_TP9jk82"
      },
      "source": [
        "## Calculate and plot performance metrics for Cumulative Bins of the Probabilities\n",
        "\n",
        "The following function plots does following:\n",
        "\n",
        "1. Sorts predicted probabilities in the descending order, and then divides the instances into N number of bins with increasing size. For example, when N = 10, it creates 10 bins such that the first bin contains the top 10% instances with the highest probability, the second bin contains the top 20% instances with the highest probability and so on where the last bin contains all the instances.\n",
        "2. Calculates the Precision, Precision Uplift (Precision of the bin divided by the proportion of positive instances in the dataset indicating the Precision of selecting a random sample of the size of the bin) and Coverage (or Recall = the proportion of positive instances in the bin out of all the positive instances in the dataset) for each bin.\n",
        "\n",
        "**Observations:** From these plots we would generally expect the Precision and Precision uplift to monotonically decrease and Recall to monotonically increase when we go from the high probability bins to the lower ones. These plots give us a good understanding of the expected precision and recall values for example if we select top N% of the instances.\n"
      ]
    },
    {
      "cell_type": "code",
      "execution_count": null,
      "id": "Mvoh3_cIjk82",
      "metadata": {
        "id": "Mvoh3_cIjk82"
      },
      "outputs": [],
      "source": [
        "cumulative_bin_metrics = binary_classification.calc_cumulative_bin_metrics(\n",
        "    labels=df_prediction['label'].values,\n",
        "    probability_predictions=df_prediction['prob'].values,\n",
        "    decimal_points=10,\n",
        "    number_bins = 100)\n",
        "\n",
        "binary_classification.plot_cumulative_bin_metrics(\n",
        "    cumulative_bin_metrics=cumulative_bin_metrics)"
      ]
    },
    {
      "cell_type": "markdown",
      "id": "lMw7_8qXjk82",
      "metadata": {
        "id": "lMw7_8qXjk82"
      },
      "source": [
        "## Feature Exploration Plots\n",
        "\n",
        "This section calculates and plots the distribution of features in the dataset for the equal sized bins of the predicted probability.\n",
        "\n",
        "How it works:\n",
        "1. First sorts predicted probabilities in the descending order, and then divides the instances into N number of equal sized bins (e.g. deciles when N = 10) such that the first bin has the instances with the highest probabilities and so on.\n",
        "2. Then it calculates and plots the distribution of each feature for each plot.\n",
        "\n",
        "**Expected outputs:**\n",
        "\n",
        "The output plots can be used to understand the relationships (positive, negative and non-linear correlations) between the features and the predictions (labels) leading to:\n",
        "\n",
        "* extracting new insights in relation to the business problem (e.g. how the demographics, user-behaviour or functionalities in the app/website related to the conversion rate).\n",
        "* confirming the relationships the model has learned between features and label makes sense (e.g. it hasn't learned any suspicious relationships caused by label leakages due to data collection or processing issues).\n"
      ]
    },
    {
      "cell_type": "markdown",
      "id": "gxv1Eo21k1HD",
      "metadata": {
        "id": "gxv1Eo21k1HD"
      },
      "source": [
        "### Read in the table prediction table schema."
      ]
    },
    {
      "cell_type": "code",
      "execution_count": null,
      "id": "yVJeI4o9jk82",
      "metadata": {
        "id": "yVJeI4o9jk82"
      },
      "outputs": [],
      "source": [
        "sql = f\"\"\"SELECT column_name, data_type\n",
        "       FROM `{PROJECT_ID}.{TEST_DATA_PREDICTIONS_DATASET}`.INFORMATION_SCHEMA.COLUMNS\n",
        "       WHERE table_name='{TEST_DATA_PREDICTIONS_TABLE}'\"\"\"\n",
        "\n",
        "print(sql)\n",
        "schema = (\n",
        "    bq_client.query(sql)\n",
        "    .result()\n",
        "    .to_dataframe(bqstorage_client=bqstorageclient))\n",
        "\n",
        "schema.columns = ['column_name', 'type']\n",
        "schema.head()"
      ]
    },
    {
      "cell_type": "code",
      "execution_count": null,
      "id": "P_bKkevFjk83",
      "metadata": {
        "id": "P_bKkevFjk83"
      },
      "outputs": [],
      "source": [
        "# Seperate out numerical and categorical columns names.\n",
        "num_features = list(schema[schema['type'].isin(['INT64','FLOAT64'])]['column_name'])\n",
        "cat_features = list(schema[schema['type'].isin(['STRING'])]['column_name'])\n",
        "# Remove non-feature columns.\n",
        "columns_to_remove = ['user_id', 'label']\n",
        "num_features = [v for v in num_features if v not in columns_to_remove]\n",
        "cat_features = [v for v in cat_features if v not in columns_to_remove]\n",
        "print(f'Number of numerical features: {len(num_features)}')\n",
        "print(f'Number of categorical features: {len(cat_features)}')"
      ]
    },
    {
      "cell_type": "code",
      "execution_count": null,
      "id": "g2nJyw0Hjk83",
      "metadata": {
        "id": "g2nJyw0Hjk83"
      },
      "outputs": [],
      "source": [
        "feature_names_to_plot = num_features + cat_features\n",
        "feature_types = ['numerical'] * len(num_features) + ['categorical'] * len(cat_features)"
      ]
    },
    {
      "cell_type": "code",
      "execution_count": null,
      "id": "49jDk9MNjk83",
      "metadata": {
        "id": "49jDk9MNjk83"
      },
      "outputs": [],
      "source": [
        "binary_classification.plot_binned_features(\n",
        "    data=df_prediction,\n",
        "    prediction_column_name='prob',\n",
        "    feature_names=feature_names_to_plot,\n",
        "    feature_types=feature_types);"
      ]
    }
  ],
  "metadata": {
    "colab": {
      "collapsed_sections": [],
      "name": "5.model_evaluation_and_diagnostics.ipynb",
      "private_outputs": true,
      "provenance": [
        {
          "file_id": "/piper/depot/google3/third_party/professional_services/solutions/compass/packages/propensity/5_model_evaluation_and_diagnostics.ipynb?workspaceId=szczecinski:diagnostic_prod::citc",
          "timestamp": 1626444813368
        },
        {
          "file_id": "/piper/depot/google3/third_party/professional_services/solutions/compass/packages/propensity/5_model_evaluation_and_diagnostics.ipynb?workspaceId=szczecinski:diagnostic_prod::citc",
          "timestamp": 1626442594736
        },
        {
          "file_id": "1dugCt0TXinm1NqCEUiuFfyxWS54mDekp",
          "timestamp": 1625469937832
        }
      ]
    },
    "environment": {
      "name": "common-cpu.m59",
      "type": "gcloud",
      "uri": "gcr.io/deeplearning-platform-release/base-cpu:m59"
    },
    "kernelspec": {
      "display_name": "Python 3",
      "language": "python",
      "name": "python3"
    },
    "language_info": {
      "codemirror_mode": {
        "name": "ipython",
        "version": 3
      },
      "file_extension": ".py",
      "mimetype": "text/x-python",
      "name": "python",
      "nbconvert_exporter": "python",
      "pygments_lexer": "ipython3",
      "version": "3.7.8"
    }
  },
  "nbformat": 4,
  "nbformat_minor": 5
}
