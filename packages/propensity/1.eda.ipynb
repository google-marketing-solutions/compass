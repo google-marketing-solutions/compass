{
  "cells": [
    {
      "cell_type": "code",
      "execution_count": null,
      "metadata": {
        "id": "IngCH5EwiUiw"
      },
      "outputs": [],
      "source": [
        "# Copyright 2021 Google LLC.\n",
        "# Licensed under the Apache License, Version 2.0 (the \"License\");\n",
        "# you may not use this file except in compliance with the License.\n",
        "# You may obtain a copy of the License at\n",
        "#\n",
        "# https://www.apache.org/licenses/LICENSE-2.0\n",
        "#\n",
        "# Unless required by applicable law or agreed to in writing, software\n",
        "# distributed under the License is distributed on an \"AS IS\" BASIS,\n",
        "# WITHOUT WARRANTIES OR CONDITIONS OF ANY KIND, either express or implied.\n",
        "# See the License for the specific language governing permissions and\n",
        "# limitations under the License."
      ]
    },
    {
      "cell_type": "markdown",
      "metadata": {
        "id": "5luWAyu0ejDG"
      },
      "source": [
        "# 1. EDA (Exploratory Data Analysis)"
      ]
    },
    {
      "cell_type": "markdown",
      "metadata": {
        "id": "5x8QE12fhy7n"
      },
      "source": [
        "This notebook has following objectives:\n",
        "\n",
        "1. Check feasability of building propensity model.\n",
        "1. Inspect GA fields in order to identify relevant information for features and targets.\n",
        "1. Perform initial exploratory data analysis to identify insights that might help with building well performing propensity model.\n",
        "1. Get a more \"intimate\" feel of the data before embarking on a large scale processing and automated modelling."
      ]
    },
    {
      "cell_type": "markdown",
      "metadata": {
        "id": "sl3Ay6D2iCCv"
      },
      "source": [
        "## Requirements\n",
        "\n",
        "1. [Google Analytics dataset stored in BigQuery.](https://support.google.com/analytics/answer/3437618?hl=en)"
      ]
    },
    {
      "cell_type": "markdown",
      "metadata": {
        "id": "yEDkrDpPhkDn"
      },
      "source": [
        "## Install and import required modules"
      ]
    },
    {
      "cell_type": "code",
      "execution_count": null,
      "metadata": {
        "id": "JJ04QehNiUi1"
      },
      "outputs": [],
      "source": [
        "# Install gps_building_blocks package if not installed\n",
        "# !pip install gps_building_blocks"
      ]
    },
    {
      "cell_type": "code",
      "execution_count": null,
      "metadata": {
        "id": "Dg-guLgXeVJZ"
      },
      "outputs": [],
      "source": [
        "import pandas as pd\n",
        "\n",
        "from gps_building_blocks.cloud.utils import bigquery as bigquery_utils\n",
        "from utils import exploratory_data_analysis"
      ]
    },
    {
      "cell_type": "markdown",
      "metadata": {
        "id": "3OrWMSDahrLj"
      },
      "source": [
        "### Settings"
      ]
    },
    {
      "cell_type": "code",
      "execution_count": null,
      "metadata": {
        "id": "aw9-CXwjhweQ"
      },
      "outputs": [],
      "source": [
        "# Prints all the outputs from cell (instead of using display each time)\n",
        "from IPython.core.interactiveshell import InteractiveShell\n",
        "InteractiveShell.ast_node_interactivity = \"all\""
      ]
    },
    {
      "cell_type": "markdown",
      "metadata": {
        "id": "S6Fi2H38h_SS"
      },
      "source": [
        "### Configuration"
      ]
    },
    {
      "cell_type": "markdown",
      "metadata": {
        "id": "8aVrdikLiUi4"
      },
      "source": [
        "Configure following variables:"
      ]
    },
    {
      "cell_type": "code",
      "execution_count": null,
      "metadata": {
        "id": "NJTOK-GhiUi4"
      },
      "outputs": [],
      "source": [
        "# GCP Project ID\n",
        "PROJECT_ID = 'project_id'\n",
        "# BigQuery dataset name\n",
        "DATASET_NAME = 'bigquery-public-data.google_analytics_sample'\n",
        "# BigQuery table (name) containing google analytics session data.\n",
        "TABLE_NAME = 'ga_sessions'"
      ]
    },
    {
      "cell_type": "code",
      "execution_count": null,
      "metadata": {
        "id": "4LsGtgRdiUi5"
      },
      "outputs": [],
      "source": [
        "params = {\n",
        "  'project': PROJECT_ID,\n",
        "  'dataset': DATASET_NAME,\n",
        "  'table': TABLE_NAME,\n",
        "  'verbose': True\n",
        "}"
      ]
    },
    {
      "cell_type": "markdown",
      "metadata": {
        "id": "IWbmazTwiUi5"
      },
      "source": [
        "First, we initialize Analysis with config parameters."
      ]
    },
    {
      "cell_type": "code",
      "execution_count": null,
      "metadata": {
        "id": "N522DNn7iUi5"
      },
      "outputs": [],
      "source": [
        "bq_client = bigquery_utils.BigQueryUtils(project_id=PROJECT_ID)\n",
        "eda = exploratory_data_analysis.Analysis(bq_client=bq_client, params=params)"
      ]
    },
    {
      "cell_type": "markdown",
      "metadata": {
        "id": "xKVPIT52iUi6"
      },
      "source": [
        "## 1. Problem statement\n",
        "\n",
        "Objective:\n",
        "1. Define problem statement and questions you are trying to address.\n",
        "\n",
        "### Questions:\n",
        "1. What is the business problem you are trying to solve?\n",
        "1. What are the success criteria of the project?\n",
        "1. What target do you want to predict?\n",
        "1. What are the important fields to consider as the potential features?"
      ]
    },
    {
      "cell_type": "markdown",
      "metadata": {
        "id": "y9dyX9X4CdVh"
      },
      "source": [
        "## 2. Schema and the field descriptions.\n",
        "\n",
        "This is example for GA360 data. You can see field descriptions [here](https://support.google.com/analytics/answer/3437719?hl=en#)."
      ]
    },
    {
      "cell_type": "code",
      "execution_count": null,
      "metadata": {
        "id": "pRM5FKolCiIw"
      },
      "outputs": [],
      "source": [
        "# We can read the table with schema description\n",
        "# into pandas dataframe for easy reference or joining.\n",
        "df_schema = pd.read_html('https://support.google.com/analytics/answer/3437719?hl=en#')[0]\n",
        "df_schema"
      ]
    },
    {
      "cell_type": "markdown",
      "metadata": {
        "id": "QLXgWP8oEv6q"
      },
      "source": [
        "## 3. Data Structure\n",
        "\u003ca id= 'data_structure'\u003e\u003c/a\u003e\n",
        "\n",
        "We can get information about data directly from metadata of the bigquery dataset using [INFORMATION_SCHEMA](https://cloud.google.com/bigquery/docs/information-schema-tables). Sometimes its not populated."
      ]
    },
    {
      "cell_type": "markdown",
      "metadata": {
        "id": "vWCduIaLiUi7"
      },
      "source": [
        "Objective:\n",
        "\n",
        "1. Understand structure of the data.\n",
        "\n",
        "Questions:\n",
        "\n",
        "1. Is the dataset description available and what does it say?\n",
        "1. How long the dataset is stretches for (how many daily tables) ?\n",
        "1. How big are the daily tables?\n",
        "1. Are there any missing days?"
      ]
    },
    {
      "cell_type": "code",
      "execution_count": null,
      "metadata": {
        "id": "X0Wpv_7riUi8"
      },
      "outputs": [],
      "source": [
        "table_options, description = eda.get_ds_description()"
      ]
    },
    {
      "cell_type": "markdown",
      "metadata": {
        "id": "7YB-925tnLj4"
      },
      "source": [
        "# References\n",
        "\n",
        "**General**\n",
        "\n",
        "[Google Analytics Glossary](https://support.google.com/analytics/topic/6083659?hl=en\u0026ref_topic=3544906)\n",
        "\n",
        "[Interactive visualization of the Google Analytics 360 BigQuery Export schema.](https://storage.googleapis.com/e-nor/visualizations/bigquery/ga360-schema.html#section-collapsible-tree)"
      ]
    }
  ],
  "metadata": {
    "colab": {
      "collapsed_sections": [],
      "name": "1.eda.ipynb",
      "private_outputs": true,
      "provenance": [
        {
          "file_id": "/piper/depot/google3/third_party/professional_services/solutions/compass/packages/propensity/1.eda.ipynb?workspaceId=szczecinski:dev_eda::citc",
          "timestamp": 1631592026428
        },
        {
          "file_id": "/piper/depot/google3/third_party/professional_services/solutions/compass/packages/propensity/1.eda.ipynb?workspaceId=szczecinski:dev_eda::citc",
          "timestamp": 1631125536764
        },
        {
          "file_id": "/piper/depot/google3/third_party/professional_services/solutions/compass/packages/propensity/1.eda.ipynb?workspaceId=szczecinski:dev_eda::citc",
          "timestamp": 1631123855041
        }
      ],
      "toc_visible": true
    },
    "environment": {
      "name": "common-cpu.m59",
      "type": "gcloud",
      "uri": "gcr.io/deeplearning-platform-release/base-cpu:m59"
    },
    "kernelspec": {
      "display_name": "Python 3",
      "language": "python",
      "name": "python3"
    },
    "language_info": {
      "codemirror_mode": {
        "name": "ipython",
        "version": 3
      },
      "file_extension": ".py",
      "mimetype": "text/x-python",
      "name": "python",
      "nbconvert_exporter": "python",
      "pygments_lexer": "ipython3",
      "version": "3.7.8"
    }
  },
  "nbformat": 4,
  "nbformat_minor": 0
}
