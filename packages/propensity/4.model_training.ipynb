{
  "cells": [
    {
      "cell_type": "code",
      "execution_count": null,
      "id": "YZbZUe5qWEw4",
      "metadata": {
        "id": "YZbZUe5qWEw4"
      },
      "outputs": [],
      "source": [
        "# Copyright 2021 Google LLC.\n",
        "# Licensed under the Apache License, Version 2.0 (the \"License\");\n",
        "# you may not use this file except in compliance with the License.\n",
        "# You may obtain a copy of the License at\n",
        "#\n",
        "# https://www.apache.org/licenses/LICENSE-2.0\n",
        "#\n",
        "# Unless required by applicable law or agreed to in writing, software\n",
        "# distributed under the License is distributed on an \"AS IS\" BASIS,\n",
        "# WITHOUT WARRANTIES OR CONDITIONS OF ANY KIND, either express or implied.\n",
        "# See the License for the specific language governing permissions and\n",
        "# limitations under the License."
      ]
    },
    {
      "cell_type": "markdown",
      "id": "e9672db4",
      "metadata": {
        "id": "e9672db4"
      },
      "source": [
        "# 3. Model Training\n",
        "\n",
        "This notebook demonstrates how BigQuery ML can be used to build propensity model."
      ]
    },
    {
      "cell_type": "markdown",
      "id": "8sHi8SaGNeuf",
      "metadata": {
        "id": "8sHi8SaGNeuf"
      },
      "source": [
        "## Requirements\n",
        "\n",
        "TODO(): Update correct notebook cross-links.\n",
        "\n",
        "Input features used for training needs to be stored as a BigQuery table. This can be done using [2. ML Data preparation notebook](2.ml_data_preparation.ipynb)."
      ]
    },
    {
      "cell_type": "markdown",
      "id": "362fd965",
      "metadata": {
        "id": "362fd965"
      },
      "source": [
        "## Install and import required modules"
      ]
    },
    {
      "cell_type": "code",
      "execution_count": null,
      "id": "MiDLLEg9lgHK",
      "metadata": {
        "id": "MiDLLEg9lgHK"
      },
      "outputs": [],
      "source": [
        "# Install gps_building_blocks package if not installed\n",
        "# !pip install gps_building_blocks"
      ]
    },
    {
      "cell_type": "code",
      "execution_count": null,
      "id": "da3a13bf",
      "metadata": {
        "id": "da3a13bf"
      },
      "outputs": [],
      "source": [
        "from utils import model\n",
        "from gps_building_blocks.cloud.utils import bigquery as bigquery_utils"
      ]
    },
    {
      "cell_type": "markdown",
      "id": "07fb82b4",
      "metadata": {
        "id": "07fb82b4"
      },
      "source": [
        "## Configuration"
      ]
    },
    {
      "cell_type": "markdown",
      "id": "246d861a",
      "metadata": {
        "id": "246d861a"
      },
      "source": [
        "Before training propensity model, let's setup initial configurations that are used across the notebook."
      ]
    },
    {
      "cell_type": "markdown",
      "id": "765e25e3",
      "metadata": {
        "id": "765e25e3"
      },
      "source": [
        "### GCP configation\n",
        "\n",
        "Configure following variables based on your GCP project:"
      ]
    },
    {
      "cell_type": "code",
      "execution_count": null,
      "id": "35c78327",
      "metadata": {
        "id": "35c78327"
      },
      "outputs": [],
      "source": [
        "# GCP Project ID\n",
        "PROJECT_ID = 'project-id'\n",
        "# BigQuery dataset name\n",
        "DATASET_NAME = 'dataset'\n",
        "# BigQuery table (name) containing features dataset\n",
        "FEATURES_TABLE_NAME = 'features_table'\n",
        "# Output model name to save in BigQuery\n",
        "MODEL_NAME = 'propensity_model'"
      ]
    },
    {
      "cell_type": "markdown",
      "id": "ad9be3cf",
      "metadata": {
        "id": "ad9be3cf"
      },
      "source": [
        "Next, let's configure modeling options."
      ]
    },
    {
      "cell_type": "markdown",
      "id": "a59bce41",
      "metadata": {
        "id": "a59bce41"
      },
      "source": [
        "### Model and features configuration"
      ]
    },
    {
      "cell_type": "markdown",
      "id": "57218f72",
      "metadata": {
        "id": "57218f72"
      },
      "source": [
        "Model options can be configured in detail based on BigQuery ML specifications\n",
        "listed in [The CREATE MODEL statement](https://cloud.google.com/bigquery-ml/docs/reference/standard-sql/bigqueryml-syntax-create).\n",
        "\n",
        "**NOTE**: Propensity modeling supports only following four types of models available in BigQuery ML:\n",
        "- LOGISTIC_REG\n",
        "- [AUTOML_CLASSIFIER](https://cloud.google.com/bigquery-ml/docs/reference/standard-sql/bigqueryml-syntax-create-automl)\n",
        "- [BOOSTED_TREE_CLASSIFIER](https://cloud.google.com/bigquery-ml/docs/reference/standard-sql/bigqueryml-syntax-create-boosted-tree)\n",
        "- [DNN_CLASSIFIER](https://cloud.google.com/bigquery-ml/docs/reference/standard-sql/bigqueryml-syntax-create-dnn-models)\n",
        "\n",
        "In order to use specific model options, you can add options to following configuration exactly same as listed in the [The CREATE MODEL statement](https://cloud.google.com/bigquery-ml/docs/reference/standard-sql/bigqueryml-syntax-create). For example, if you want to trian [AUTOML_CLASSIFIER](https://cloud.google.com/bigquery-ml/docs/reference/standard-sql/bigqueryml-syntax-create-automl) with `BUDGET_HOURS=1`, you can specify it as:\n",
        "\n",
        "```python\n",
        "params = {\n",
        "  'model_type': 'AUTOML_CLASSIFIER',\n",
        "  'budget_hours': 1\n",
        "}\n",
        "```"
      ]
    },
    {
      "cell_type": "code",
      "execution_count": null,
      "id": "6032a85b",
      "metadata": {
        "id": "6032a85b"
      },
      "outputs": [],
      "source": [
        "FEATURE_COLUMNS = [\n",
        "  'feature1',\n",
        "  'feature2'\n",
        "]\n",
        "TARGET_COLUMN = 'label'\n",
        "\n",
        "params = {\n",
        "  'model_path': f'{PROJECT_ID}.{DATASET_NAME}.{MODEL_NAME}',\n",
        "  'features_table_path': f'{PROJECT_ID}.{DATASET}.{FEATURES_TABLE_NAME}',\n",
        "  'model_type': 'LOGISTIC_REG',\n",
        "  'data_split_method': 'AUTO_SPLIT',\n",
        "  'auto_class_weights': 'TRUE',\n",
        "  'feature_columns': FEATURE_COLUMNS,\n",
        "  'target_column': TARGET_COLUMN\n",
        "}"
      ]
    },
    {
      "cell_type": "markdown",
      "id": "e5027644",
      "metadata": {
        "id": "e5027644"
      },
      "source": [
        "## Train the model\n",
        "\n",
        "First, we initialize `PropensityModel` with config parameters."
      ]
    },
    {
      "cell_type": "code",
      "execution_count": null,
      "id": "d4ab40a7",
      "metadata": {
        "id": "d4ab40a7"
      },
      "outputs": [],
      "source": [
        "bq_client = bigquery_utils.BigQueryUtils(project_id=PROJECT_ID)\n",
        "propensity_model = model.PropensityModel(bq_client=bq_client, params=params)"
      ]
    },
    {
      "cell_type": "markdown",
      "id": "c2f442f7",
      "metadata": {
        "id": "c2f442f7"
      },
      "source": [
        "Next cell triggers model training job in BigQuery which takes some time to finish depending on dataset size and model complexity. Set `verbose=True`, if you want to verify training query details."
      ]
    },
    {
      "cell_type": "code",
      "execution_count": null,
      "id": "pRKRB9Y92G1W",
      "metadata": {
        "id": "pRKRB9Y92G1W"
      },
      "outputs": [],
      "source": [
        "model.train(verbose=False)"
      ]
    },
    {
      "cell_type": "markdown",
      "id": "327e792a",
      "metadata": {
        "id": "327e792a"
      },
      "source": [
        "Following cell allows you to see detailed information about the input features used to train a model. It provides following columns:\n",
        "- input — The name of the column in the input training data.\n",
        "- min — The sample minimum. This column is NULL for non-numeric inputs.\n",
        "- max — The sample maximum. This column is NULL for non-numeric inputs.\n",
        "- mean — The average. This column is NULL for non-numeric inputs.\n",
        "- stddev — The standard deviation. This column is NULL for non-numeric inputs.\n",
        "- category_count — The number of categories. This column is NULL for non-categorical columns.\n",
        "- null_count — The number of NULLs.\n",
        "\n",
        "For more details refer to [help page](https://cloud.google.com/bigquery-ml/docs/reference/standard-sql/bigqueryml-syntax-feature)."
      ]
    },
    {
      "cell_type": "code",
      "execution_count": null,
      "id": "f22ce390",
      "metadata": {
        "id": "f22ce390"
      },
      "outputs": [],
      "source": [
        "propensity_model.get_feature_info()"
      ]
    },
    {
      "cell_type": "markdown",
      "id": "f2538b65",
      "metadata": {
        "id": "f2538b65"
      },
      "source": [
        "## Evaluate the model\n",
        "\n",
        "This section helps to do quick model evaluation to get following model metrics:\n",
        "- precision\n",
        "- recall\n",
        "- accuracy\n",
        "- f1_score\n",
        "- log_loss\n",
        "- roc_auc\n",
        "\n",
        "Two **optional parameters** can be specified for evaluation:\n",
        "1. `eval_table`: BigQuery table containing evaluation dataset\n",
        "2. `threshold`: Custom threshold to be used for evaluation. Default value is `0.5`.\n",
        "\n",
        "If neither of these options are specified, the model is evaluated using evaluation dataset split during training with default threshold of 0.5.\n",
        "\n",
        "TODO(zmtbnv): Update notebook links after notebooks are published.\n",
        "\n",
        "**NOTE:** This evaluation provides basic model performance metrics. For thorough evaluation refer to [5. Model evaluation notebook](5.model_evaluation_and_diagnostics.ipynb)."
      ]
    },
    {
      "cell_type": "code",
      "execution_count": null,
      "id": "e409569d",
      "metadata": {
        "id": "e409569d"
      },
      "outputs": [],
      "source": [
        "EVAL_TABLE_NAME = 'eval_table'\n",
        "\n",
        "eval_params = {\n",
        "  'eval_table':  f'{PROJECT_ID}.{DATASET_NAME}.{EVAL_TABLE_NAME}',\n",
        "  'threshold': 0.5\n",
        "}\n",
        "propensity_model.evaluate(eval_params, verbose=False)"
      ]
    },
    {
      "cell_type": "markdown",
      "id": "d1493e96",
      "metadata": {
        "id": "d1493e96"
      },
      "source": [
        "## Next"
      ]
    },
    {
      "cell_type": "markdown",
      "id": "07df0f1a",
      "metadata": {
        "id": "07df0f1a"
      },
      "source": [
        "Use [5. Model evaluation notebook](5.model_evaluation_and_diagnostics.ipynb) to get detailed performance metrics of the model and decide of model actually solves the business problem."
      ]
    }
  ],
  "metadata": {
    "colab": {
      "collapsed_sections": [],
      "last_runtime": {
        "build_target": "//research/colab/notebook:notebook_backend_py3",
        "kind": "private"
      },
      "name": "3.model_training.ipynb",
      "provenance": []
    },
    "environment": {
      "name": "common-cpu.m71",
      "type": "gcloud",
      "uri": "gcr.io/deeplearning-platform-release/base-cpu:m71"
    },
    "kernelspec": {
      "display_name": "Python 3",
      "language": "python",
      "name": "python3"
    },
    "language_info": {
      "codemirror_mode": {
        "name": "ipython",
        "version": 3
      },
      "file_extension": ".py",
      "mimetype": "text/x-python",
      "name": "python",
      "nbconvert_exporter": "python",
      "pygments_lexer": "ipython3",
      "version": "3.7.10"
    }
  },
  "nbformat": 4,
  "nbformat_minor": 5
}
