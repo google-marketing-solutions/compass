{
  "cells": [
    {
      "cell_type": "code",
      "execution_count": null,
      "metadata": {
        "id": "bWqIsh4YnX1M"
      },
      "outputs": [],
      "source": [
        "# Copyright 2022 Google LLC.\n",
        "# Licensed under the Apache License, Version 2.0 (the \"License\");\n",
        "# you may not use this file except in compliance with the License.\n",
        "# You may obtain a copy of the License at\n",
        "#\n",
        "# https://www.apache.org/licenses/LICENSE-2.0\n",
        "#\n",
        "# Unless required by applicable law or agreed to in writing, software\n",
        "# distributed under the License is distributed on an \"AS IS\" BASIS,\n",
        "# WITHOUT WARRANTIES OR CONDITIONS OF ANY KIND, either express or implied.\n",
        "# See the License for the specific language governing permissions and\n",
        "# limitations under the License."
      ]
    },
    {
      "cell_type": "markdown",
      "metadata": {
        "id": "ULt-7VPqnfBI"
      },
      "source": [
        "# 10. Post campaign analysis"
      ]
    },
    {
      "cell_type": "markdown",
      "metadata": {
        "id": "SPNyUedHnkk9"
      },
      "source": [
        "This notebook analyses the results of a media campaign executed by using propensity audiences, that is, the comparison of conversion rates between Test and Control audience groups by using the statistical significance tests implemented in\n",
        "[Experimental Design](https://github.com/google/gps_building_blocks/tree/master/py/gps_building_blocks/analysis/exp_design) module. It is vital to analyse the impact of media campaigns using valid statistical methods to make sure the any impact that we observe is not due to random chance."
      ]
    },
    {
      "cell_type": "markdown",
      "metadata": {
        "id": "rNjjvMIspb3Z"
      },
      "source": [
        "### Requirements\n",
        "\n",
        "Group sizes and number of conversions for Test and Control groups."
      ]
    },
    {
      "cell_type": "markdown",
      "metadata": {
        "id": "UUIPYvwNqK-O"
      },
      "source": [
        "### Install and import required modules"
      ]
    },
    {
      "cell_type": "code",
      "execution_count": null,
      "metadata": {
        "id": "-mEB44mZnbBJ"
      },
      "outputs": [],
      "source": [
        "# Uncomment to install required python modules\n",
        "# !sh ../utils/setup.sh"
      ]
    },
    {
      "cell_type": "code",
      "execution_count": null,
      "metadata": {
        "id": "CSPKo6GrnbER"
      },
      "outputs": [],
      "source": [
        "import numpy as np\n",
        "import pandas as pd\n",
        "\n",
        "from gps_building_blocks.analysis.exp_design import ab_testing_analysis"
      ]
    },
    {
      "cell_type": "markdown",
      "metadata": {
        "id": "1eUq9Pj9qnWZ"
      },
      "source": [
        "### Set parameters"
      ]
    },
    {
      "cell_type": "code",
      "execution_count": null,
      "metadata": {
        "id": "dBPOVssFqVwW"
      },
      "outputs": [],
      "source": [
        "# Sample size of the Test group\n",
        "TEST_GROUP_SIZE = 10000\n",
        "# Number of converters in the Test group\n",
        "TEST_GROUP_CONVERSIONS = 100\n",
        "# Sample size of the Control group\n",
        "CONTROL_GROUP_SIZE = 500\n",
        "# Number of converters in the Test group\n",
        "CONTROL_GROUP_CONVERSIONS = 30"
      ]
    },
    {
      "cell_type": "markdown",
      "metadata": {
        "id": "tbTRXMptrWGS"
      },
      "source": [
        "### Run the statistical test to compare conversion rates"
      ]
    },
    {
      "cell_type": "code",
      "execution_count": null,
      "metadata": {
        "id": "stVO4pnDnbJu"
      },
      "outputs": [],
      "source": [
        "# Following statistical test can be run to compare the conversion rates between\n",
        "# each pair of Test and Control groups.\n",
        "\n",
        "p_value = ab_testing_analysis.calc_chisquared_pvalue(\n",
        "    group_counts=(TEST_GROUP_SIZE, CONTROL_GROUP_SIZE),\n",
        "    converter_counts=(TEST_GROUP_CONVERSIONS, CONTROL_GROUP_CONVERSIONS))\n",
        "\n",
        "print(p_value)\n",
        "\n",
        "# For example, if the p_value is less than 0.05 we can say that the convertion\n",
        "# rates between the Test and Control are statistically different at 95%\n",
        "# confidence level. "
      ]
    }
  ],
  "metadata": {
    "colab": {
      "collapsed_sections": [],
      "name": "10.post_campaign_analysis.ipynb",
      "private_outputs": true,
      "provenance": []
    }
  },
  "nbformat": 4,
  "nbformat_minor": 0
}
