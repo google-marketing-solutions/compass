{
  "cells": [
    {
      "cell_type": "code",
      "execution_count": null,
      "metadata": {
        "id": "F5Jcj7z0Vwsr"
      },
      "outputs": [],
      "source": [
        "# Copyright 2022 Google LLC.\n",
        "# Licensed under the Apache License, Version 2.0 (the \"License\");\n",
        "# you may not use this file except in compliance with the License.\n",
        "# You may obtain a copy of the License at\n",
        "#\n",
        "# https://www.apache.org/licenses/LICENSE-2.0\n",
        "#\n",
        "# Unless required by applicable law or agreed to in writing, software\n",
        "# distributed under the License is distributed on an \"AS IS\" BASIS,\n",
        "# WITHOUT WARRANTIES OR CONDITIONS OF ANY KIND, either express or implied.\n",
        "# See the License for the specific language governing permissions and\n",
        "# limitations under the License."
      ]
    },
    {
      "cell_type": "markdown",
      "metadata": {
        "id": "i5V5Oqb35Kv8"
      },
      "source": [
        "# 2. ML Data Preparation for Propensity Modeling"
      ]
    },
    {
      "cell_type": "markdown",
      "metadata": {
        "id": "aebrjOY3KUba"
      },
      "source": [
        "This notebook demonstrates how to create an ML dataset using [ML Data Windowing Pipeline (MLWP)](https://github.com/google/gps_building_blocks/tree/master/py/gps_building_blocks/ml/data_prep/ml_windowing_pipeline) and [Data Visualizastion](https://github.com/google/gps_building_blocks/tree/master/py/gps_building_blocks/ml/data_prep/data_visualizer) modules.\n",
        "\n",
        "* MLWP creates a rich ML dataset by extracting a series of data snapshots over time in a faster, easier and cheaper way.\n",
        "* Data Visualization visualizes input and output data for MLWP for consistency and accuracy to avoid garbage in, garage out situation in modelling.\n",
        "\n",
        "[Google Merchandize Store GA360 dataset](https://support.google.com/analytics/answer/7586738?hl=en) is used as an example."
      ]
    },
    {
      "cell_type": "markdown",
      "metadata": {
        "id": "a1xvGrIR5tqb"
      },
      "source": [
        "### Requirements\n",
        "\n",
        "* [Google Analytics dataset stored in BigQuery.](https://support.google.com/analytics/answer/3437618?hl=en)"
      ]
    },
    {
      "cell_type": "markdown",
      "metadata": {
        "id": "Y4xedWtrKTHL"
      },
      "source": [
        "### Install and import required modules"
      ]
    },
    {
      "cell_type": "code",
      "execution_count": null,
      "metadata": {
        "id": "dAuaCQGVJZqO"
      },
      "outputs": [],
      "source": [
        "# Uncomment to install required python modules\n",
        "# !sh ../utils/setup.sh"
      ]
    },
    {
      "cell_type": "code",
      "execution_count": null,
      "metadata": {
        "id": "Uc72TyaEIwV0"
      },
      "outputs": [],
      "source": [
        "# Add custom utils module to Python environment\n",
        "import os\n",
        "import sys\n",
        "sys.path.append(os.path.abspath(os.pardir))\n",
        "\n",
        "import inspect\n",
        "\n",
        "import matplotlib.pyplot as plt\n",
        "from matplotlib.backends.backend_pdf import PdfPages\n",
        "from gps_building_blocks.cloud.utils import bigquery as bigquery_utils\n",
        "from gps_building_blocks.ml.data_prep.ml_windowing_pipeline import ml_windowing_pipeline\n",
        "from gps_building_blocks.ml.data_prep.data_visualizer import instance_visualizer\n",
        "from gps_building_blocks.ml.data_prep.data_visualizer import fact_visualizer\n",
        "from gps_building_blocks.ml.data_prep.data_visualizer import feature_visualizer\n",
        "\n",
        "from utils import helpers"
      ]
    },
    {
      "cell_type": "markdown",
      "metadata": {
        "id": "n2LyedHaIwV1"
      },
      "source": [
        "### Configure MLWP module\n",
        "\n",
        "Following copies all MLWP SQL templates to current project directory to make them customizable for your needs."
      ]
    },
    {
      "cell_type": "code",
      "execution_count": null,
      "metadata": {
        "id": "4oL4cOX5Dpmq"
      },
      "outputs": [],
      "source": [
        "# MWLP SQL template dir for this project\n",
        "MLWP_TEMPLATE_DIR = 'mlwp_templates'\n",
        "\n",
        "templates_dir = os.path.dirname(inspect.getfile(ml_windowing_pipeline))\n",
        "source_templates = os.path.join(templates_dir, 'templates')\n",
        "!cp -r {source_templates} {MLWP_TEMPLATE_DIR}"
      ]
    },
    {
      "cell_type": "markdown",
      "metadata": {
        "id": "qL4YSLEjDCJJ"
      },
      "source": [
        "Next, set up GCP project details and MWLP dataset configuration. Refer to [this page](https://github.com/google/gps_building_blocks/tree/master/py/gps_building_blocks/ml/data_prep/ml_windowing_pipeline) for more details on MWLP configurable parameters."
      ]
    },
    {
      "cell_type": "code",
      "execution_count": null,
      "metadata": {
        "id": "oYMabuV6-qUq"
      },
      "outputs": [],
      "source": [
        "configs = helpers.get_configs('config.yaml')\n",
        "source_configs, dest_configs, run_id_configs = \\\n",
        "    configs.source, configs.destination, configs.run_id\n",
        "\n",
        "# GCP project ID\n",
        "PROJECT_ID = dest_configs.project_id\n",
        "# BigQuery dataset name\n",
        "DATASET_NAME = dest_configs.dataset_name\n",
        "# BigQuery table name containing the original data\n",
        "# e.x. bigquery-public-data.google_analytics_sample.ga_sessions_* for\n",
        "# Google Merchandize Store GA360 dataset\n",
        "SOURCE_TABLE_PATH = (f'{source_configs.project_id}'\n",
        "                    f'.{source_configs.dataset_name}'\n",
        "                    f'.{source_configs.table_name}')"
      ]
    },
    {
      "cell_type": "code",
      "execution_count": null,
      "metadata": {
        "id": "QJYQeMYIIwV2"
      },
      "outputs": [],
      "source": [
        "# To distinguish the separate runs of the training pipeline\n",
        "RUN_ID = run_id_configs.train\n",
        "\n",
        "# First data snapshot date in YYYY-MM-DD format\n",
        "SNAPSHOT_START_DATE = '2016-11-17'\n",
        "# Last data snapshot date in YYYY-MM-DD format\n",
        "SNAPSHOT_END_DATE = '2017-07-01'\n",
        "# Sliding window length between shapshots\n",
        "SLIDE_INTERVAL_IN_DAYS = 7\n",
        "# The days from prediction window starts in relation to the snapshot date\n",
        "PREDICTION_WINDOW_GAP_IN_DAYS = 1\n",
        "# The length of the prediction window in days\n",
        "PREDICTION_WINDOW_SIZE_IN_DAYS = 14\n",
        "# The days from lookback window ends in relation to the snapshot date\n",
        "LOOKBACK_WINDOW_GAP_IN_DAYS = 1\n",
        "# The length of the prediction window in days\n",
        "LOOKBACK_WINDOW_SIZE_IN_DAYS = 30\n",
        "\n",
        "# Name of the pdf file containing output instance table plots\n",
        "INSTANCE_TABLE_PLOTS_FILE = 'instance_plots.pdf'\n",
        "# Name of the pdf file containing output numerical fact plots\n",
        "NUMERICAL_FACTS_PLOTS_FILE = 'numerical_fact_plots.pdf'\n",
        "# Name of the pdf file containing output categorical fact plots\n",
        "CATEGORICAL_FACTS_PLOTS_FILE = 'categorical_fact_plots.pdf'\n",
        "# Name of the pdf file containing output feature plots\n",
        "FEATURE_PLOT_FILES = 'feature_plots.pdf'"
      ]
    },
    {
      "cell_type": "markdown",
      "metadata": {
        "id": "GUtGqu7Mcerw"
      },
      "source": [
        "### Create the dataset if it does not exist"
      ]
    },
    {
      "cell_type": "code",
      "execution_count": null,
      "metadata": {
        "id": "fgfSwYmTcf17"
      },
      "outputs": [],
      "source": [
        "# Initialize BigQuery Client utils.\n",
        "bq_utils = bigquery_utils.BigQueryUtils(project_id=PROJECT_ID)\n",
        "bq_utils.create_dataset(DATASET_NAME)\n",
        "print('https://console.cloud.google.com/bigquery?'\n",
        "      'project={project}\u0026p={project}\u0026d={dataset}\u0026page=dataset'\n",
        "      .format(project=PROJECT_ID, dataset=DATASET_NAME))"
      ]
    },
    {
      "cell_type": "markdown",
      "metadata": {
        "id": "ppY4pgNPNuzW"
      },
      "source": [
        "## Run MLWP and Data Visualization\n",
        "\n",
        "The following steps are executed below to create and visualize the ML dataset:\n",
        "\n",
        "*   Step 1: Run Data Extraction Pipeline\n",
        "*   Step 2: Run Data Exploration Pipeline\n",
        "*   Step 3: Visualize Instances and Facts\n",
        "*   Step 4: Run Windowing Pipeline\n",
        "*   Step 5: Run Feature Generation Pipeline\n",
        "*   Step 6: Visualize Features"
      ]
    },
    {
      "cell_type": "markdown",
      "metadata": {
        "id": "Qw0Xi7IAIwV2"
      },
      "source": [
        "### Step 1. Run Data Extraction Pipeline\n",
        "\n",
        "This step extracts and formats the original data from the BigQuery table into\n",
        "several temporary tables for further processing.\n",
        "\n",
        "This step first requires to update the following sql templates files in the local /template directory:\n",
        "*   For GA360 data:\n",
        "    * to define the label definition: [*conversions_google_analytics.sql*](https://github.com/google/gps_building_blocks/blob/master/py/gps_building_blocks/ml/data_prep/ml_windowing_pipeline/templates/conversions_google_analytics.sql) and [*prediction_window_conversions_to_label_binary.sql*](https://github.com/google/gps_building_blocks/blob/master/py/gps_building_blocks/ml/data_prep/ml_windowing_pipeline/templates/prediction_window_conversions_to_label_binary.sql) (optional)\n",
        "    * to define the variables to extract (optional): [*sessions_google_analytics.sql*](https://github.com/google/gps_building_blocks/blob/master/py/gps_building_blocks/ml/data_prep/ml_windowing_pipeline/templates/sessions_google_analytics.sql)\n",
        "\n",
        "*   For Firebase data:\n",
        "    * to define the label definition: [*conversions_firebase.sql*](https://github.com/google/gps_building_blocks/blob/master/py/gps_building_blocks/ml/data_prep/ml_windowing_pipeline/templates/conversions_firebase.sql) and [*prediction_window_conversions_to_label_binary.sql*](https://github.com/google/gps_building_blocks/blob/master/py/gps_building_blocks/ml/data_prep/ml_windowing_pipeline/templates/prediction_window_conversions_to_label_binary.sql) (optional)\n",
        "    * to define the variables to extract (optional): [*sessions_firebase.sql*](https://github.com/google/gps_building_blocks/blob/master/py/gps_building_blocks/ml/data_prep/ml_windowing_pipeline/templates/sessions_firebase.sql)\n",
        "\n",
        "For example, the following code in [*conversions_google_analytics.sql*](https://github.com/google/gps_building_blocks/blob/master/py/gps_building_blocks/ml/data_prep/ml_windowing_pipeline/templates/conversions_google_analytics.sql) file specifies the variable and value used to define a binary label where the label is *True* when the GA360 variable *hits.eCommerceAction.action_type* contains value *‘6’* and *False* otherwise.\n",
        "\n",
        "```sql\n",
        "CREATE OR REPLACE TABLE `{{conversions_table}}`\n",
        "AS (\n",
        "  SELECT DISTINCT\n",
        "    GaTable.fullVisitorId AS user_id,\n",
        "    TIMESTAMP_SECONDS(GaTable.visitStartTime) AS conversion_ts,\n",
        "    TRUE AS label\n",
        "  FROM\n",
        "    `{{analytics_table}}` AS GaTable, UNNEST(GaTable.hits) as hits\n",
        "  WHERE\n",
        "    hits.eCommerceAction.action_type = '6'  -- Google Analytics code for \"Completed purchase\"\n",
        ");\n",
        "```\n",
        "\n",
        "For example, the following SQL code (the default setting) in the [*prediction_window_conversions_to_label_binary.sql*](https://github.com/google/gps_building_blocks/blob/master/py/gps_building_blocks/ml/data_prep/ml_windowing_pipeline/templates/prediction_window_conversions_to_label_binary.sql) can be used to create a binary label for the prediction window where the label is assigned the value *True* whenever one or more purchases occurred in the prediction window and *False* otherwise.\n",
        "\n",
        "```sql\n",
        "IFNULL(\n",
        "  (\n",
        "    SELECT LOGICAL_OR(Conversions.label)\n",
        "    FROM UNNEST(PredictionWindowConversions.conversions) AS Conversions\n",
        "  ), FALSE)\n",
        "```\n",
        "\n",
        "Then run data extraction pipeline to extract variables and the label as follows:"
      ]
    },
    {
      "cell_type": "code",
      "execution_count": null,
      "metadata": {
        "id": "DMEZHQCRIwV3"
      },
      "outputs": [],
      "source": [
        "data_extract_params = {\n",
        " 'project_id': PROJECT_ID,\n",
        " 'dataset_id': DATASET_NAME,\n",
        " 'analytics_table': SOURCE_TABLE_PATH,\n",
        " 'conversions_sql': 'conversions_google_analytics.sql', # or conversions_firebase.sql\n",
        " 'sessions_sql': 'sessions_google_analytics.sql', # or sessions_firebase.sql\n",
        " 'templates_dir': MLWP_TEMPLATE_DIR,\n",
        " 'run_id': RUN_ID\n",
        "}\n",
        "ml_windowing_pipeline.run_data_extraction_pipeline(data_extract_params)"
      ]
    },
    {
      "cell_type": "markdown",
      "metadata": {
        "id": "WSePxnyYIwV3"
      },
      "source": [
        "### Step 2. Run Data Exploration Pipeline\n",
        "\n",
        "This step outputs facts and instances into BigQuery tables (*numeric_facts_{run_id}*, *categorical_facts_{run_id}* and *instances_{run_id}*) for data exploration and analysis."
      ]
    },
    {
      "cell_type": "code",
      "execution_count": null,
      "metadata": {
        "id": "wlwZqZpHIwV4"
      },
      "outputs": [],
      "source": [
        "data_explo_params = {\n",
        " 'project_id': PROJECT_ID,\n",
        " 'dataset_id': DATASET_NAME,\n",
        " 'analytics_table': SOURCE_TABLE_PATH,\n",
        " 'snapshot_start_date': SNAPSHOT_START_DATE,\n",
        " 'snapshot_end_date': SNAPSHOT_END_DATE,\n",
        " 'slide_interval_in_days': SLIDE_INTERVAL_IN_DAYS,\n",
        " 'prediction_window_gap_in_days': PREDICTION_WINDOW_GAP_IN_DAYS,\n",
        " 'prediction_window_size_in_days': PREDICTION_WINDOW_SIZE_IN_DAYS,\n",
        " 'templates_dir': MLWP_TEMPLATE_DIR,\n",
        " 'run_id': RUN_ID\n",
        "}\n",
        "\n",
        "ml_windowing_pipeline.run_data_exploration_pipeline(data_explo_params)"
      ]
    },
    {
      "cell_type": "markdown",
      "metadata": {
        "id": "H4wSmNOHX00l"
      },
      "source": [
        "### Step 3. Visualize Instances and Facts\n",
        "\n",
        "This step visualizes instances and facts\n",
        "\n"
      ]
    },
    {
      "cell_type": "markdown",
      "metadata": {
        "id": "T-9oFEzEIwV4"
      },
      "source": [
        "### Step 3.1. Visualize Instances\n",
        "\n",
        "Instance table in BigQuery contains all the instances (e.g. users) selected for each snapshot date with some additional information such as their label, days since the first activity and days since the last activity.\n",
        "\n",
        "This step generates the following plots:\n",
        "* plots with the number of total instances, number of positive instances and proportion of positive instances for each snapshot. These plots are helpful to understand how the label is distributed over time, any seasonality and trends, and whether there are any inconsistencies. Based on this we can drop specific periods of snapshots having any data issues and consider what additional features to add to capture the seasonality or any trends of the label over time.\n",
        "* class specific distribution plots for the *days_since_first_activity* and *days_since_latest_activity* features in the Instance table. From these plots, we can determine a good lookback window period to use to create features and whether it’s worth only using customers having a particular history and recency for modeling."
      ]
    },
    {
      "cell_type": "code",
      "execution_count": null,
      "metadata": {
        "id": "3XOEwe21IwV4"
      },
      "outputs": [],
      "source": [
        "bq_utils = bigquery_utils.BigQueryUtils(project_id=PROJECT_ID)\n",
        "instance_viz = instance_visualizer.InstanceVisualizer(\n",
        "        bq_client=bq_utils.client,\n",
        "        instance_table_path=f'{PROJECT_ID}.{DATASET_NAME}.instances_{RUN_ID}',\n",
        "        num_instances=100000, # no. radom instances used for ploting\n",
        "        label_column='label', # name of the label column\n",
        "        label_type='binary', # label type\n",
        "        positive_class_label=True, # label value of the positive class\n",
        "        negative_class_label=False # label value of the negative class\n",
        "        )\n",
        "\n",
        "instance_plots = instance_viz.plot_instances()\n",
        "plt.close('all')  # Don't show plots in notebook"
      ]
    },
    {
      "cell_type": "code",
      "execution_count": null,
      "metadata": {
        "id": "XS61EmGLODCJ"
      },
      "outputs": [],
      "source": [
        "# Save the plots to a pdf file\n",
        "instance_plots_pdf = f'{RUN_ID}_{INSTANCE_TABLE_PLOTS_FILE}'\n",
        "helpers.save_to_pdf(filename=instance_plots_pdf, plots=instance_plots)"
      ]
    },
    {
      "cell_type": "markdown",
      "metadata": {
        "id": "oMX6bF0DIwV5"
      },
      "source": [
        "### Step 3.2. Visualize Facts Table\n",
        "\n",
        "Facts table in BigQuery is created by the Data Exploration Pipeline of ML Windowing Pipeline, which contains the original GA variable transformed into facts format containing *user_id*, *timestamp*, *fact_name* and *fact_value* columns.\n",
        "\n",
        "This step generates plots of numerical and categorical fact variables, which can be used to explore their validity and distribution over time. Based on that we can make decisions such as which facts variables (and which levels in categorical fact variables) to use to generate features in the following steps."
      ]
    },
    {
      "cell_type": "code",
      "execution_count": null,
      "metadata": {
        "id": "Ta_Fep1eIwV5"
      },
      "outputs": [],
      "source": [
        "fact_viz = fact_visualizer.FactVisualizer(\n",
        "        bq_client=bq_utils.client,\n",
        "        numerical_facts_table_path=f'{PROJECT_ID}.{DATASET_NAME}.numeric_facts_{RUN_ID}',\n",
        "        categorical_facts_table_path=f'{PROJECT_ID}.{DATASET_NAME}.categorical_facts_{RUN_ID}',\n",
        "        number_top_categories=5 # No. top categories to explore for categorical variables\n",
        "        )\n",
        "\n",
        "numerical_fact_plots = fact_viz.plot_numerical_facts()\n",
        "categorical_fact_plots = fact_viz.plot_categorical_facts()\n",
        "plt.close('all')  # Don't show plots in notebook"
      ]
    },
    {
      "cell_type": "code",
      "execution_count": null,
      "metadata": {
        "id": "Ohf3rJRsOWja"
      },
      "outputs": [],
      "source": [
        "numerical_fact_plots_pdf = f'{RUN_ID}_{NUMERICAL_FACTS_PLOTS_FILE}'\n",
        "categorical_fact_plots_pdf = f'{RUN_ID}_{CATEGORICAL_FACTS_PLOTS_FILE}'\n",
        "\n",
        "# Save the plots to pdf files\n",
        "for filename, plot_list in zip(\n",
        "  [numerical_fact_plots_pdf, categorical_fact_plots_pdf],\n",
        "  [numerical_fact_plots, categorical_fact_plots]):\n",
        "  helpers.save_to_pdf(filename, plot_list)"
      ]
    },
    {
      "cell_type": "markdown",
      "metadata": {
        "id": "Kf1VTprmIwV5"
      },
      "source": [
        "### Step 4. Run Data Windowing Pipeline\n",
        "\n",
        "This step segments the user data into multiple, potentially overlapping time windows, with each window containing a lookback window and a prediction window. This generates an internal table in BigQuery (*windows_{run_id}*) for further processing.\n",
        "\n",
        "The windows can be defined in two ways:\n",
        "* based on calendar dates and a sliding window. This is implemented in the *sliding_windows.sql* and used as the default.\n",
        "* based on each session of each user. This is implemented in the *session_windows.sql* and you can use the *windows_sql* parameter to specify it."
      ]
    },
    {
      "cell_type": "code",
      "execution_count": null,
      "metadata": {
        "id": "rKIJl-iNIwV6"
      },
      "outputs": [],
      "source": [
        "windowing_params = {\n",
        " 'project_id': PROJECT_ID,\n",
        " 'dataset_id': DATASET_NAME,\n",
        " 'snapshot_start_date': SNAPSHOT_START_DATE,\n",
        " 'snapshot_end_date': SNAPSHOT_END_DATE,\n",
        " 'slide_interval_in_days': SLIDE_INTERVAL_IN_DAYS,\n",
        " 'prediction_window_gap_in_days': PREDICTION_WINDOW_GAP_IN_DAYS,\n",
        " 'prediction_window_size_in_days': PREDICTION_WINDOW_SIZE_IN_DAYS,\n",
        " 'lookback_window_gap_in_days': LOOKBACK_WINDOW_GAP_IN_DAYS,\n",
        " 'lookback_window_size_in_days': LOOKBACK_WINDOW_SIZE_IN_DAYS,\n",
        " 'run_id': RUN_ID\n",
        "}\n",
        "\n",
        "ml_windowing_pipeline.run_windowing_pipeline(windowing_params)"
      ]
    },
    {
      "cell_type": "markdown",
      "metadata": {
        "id": "KCnDCb7jIwV6"
      },
      "source": [
        "### Step 5. Run Feature Generation Pipeline\n",
        "\n",
        "This step generates features from the windows of data computed in Data Windowing Pipeline and outputs to *features_{run_id}* table in BigQuery.\n",
        "\n",
        "In this step, we can select the variables, feature types (aggregation functions) and input values based on prior knowledge or the exploration of facts done at the Fact Visualization step.\n",
        "\n",
        "For numerical variables, the following feature types (aggregated functions) are supported:\n",
        "* Sum: sum of all the values over the lookback window\n",
        "* Average: average of all the values over the lookback window\n",
        "* Min: minimum of all the values over the lookback window\n",
        "* Max: maximum of all the values over the lookback window\n",
        "\n",
        "These options expect a semi-colon separated list of numerical fact names to create the corresponding features (e.x. `sum_values:'variable_1;variable_2,...'`).\n",
        "\n",
        "For categorical variables, the following feature types (aggregated functions) are supported:\n",
        "* Counts: total occurrence of each category\n",
        "* Proportions: proportion of occurance of each category\n",
        "* Latest value: the latest category value\n",
        "* Mode value: the most frequent category value\n",
        "\n",
        "These options expect a semi-colon separated list of categorical Feature Options (`\u003cfeature_option1\u003e;\u003cfeature_option2\u003e;\u003cfeature_option3\u003e`). Each Feature Option should contain a categorical fact name, a list of categorical values to consider and a default value. The default value is specified to use the common value for any value not on the provided list. Feature Option = `\u003cfact_name\u003e:[\u003cvalue1\u003e, …,\u003cvalueN\u003e]:[\u003cdefault_value\u003e]`. (e.x. `count_values':'trafficSource_medium:[cpm,cpc,referral,affiliate,organic]:[Other];device_isMobile:[false,true]:[Other]'`)"
      ]
    },
    {
      "cell_type": "code",
      "execution_count": null,
      "metadata": {
        "id": "t0L_2_mhIwV6"
      },
      "outputs": [],
      "source": [
        "features_params = {\n",
        " 'project_id': PROJECT_ID,\n",
        " 'dataset_id': DATASET_NAME,\n",
        " 'features_sql': 'features_from_input.sql',\n",
        " 'sum_values': 'totals_visits;totals_pageviews',\n",
        " 'avg_values': 'totals_visits;totals_pageviews',\n",
        " 'min_values': 'totals_visits;totals_pageviews',\n",
        " 'max_values': 'totals_visits;totals_pageviews',\n",
        " 'count_values': 'trafficSource_medium:[cpm,cpc,referral,affiliate,organic]:[Other];device_isMobile:[false,true]:[Other]',\n",
        " 'latest_values': 'trafficSource_medium:[cpm,cpc,referral,affiliate,organic]:[Other];device_isMobile:[false,true]:[Other]',\n",
        " 'proportions_values': 'trafficSource_medium:[cpm,cpc,referral,affiliate,organic]:[Other];device_isMobile:[false,true]:[Other]',\n",
        " 'mode_values': 'trafficSource_medium:[cpm,cpc,referral,affiliate,organic]:[Other];device_isMobile:[false,true]:[Other]',\n",
        " 'templates_dir': MLWP_TEMPLATE_DIR,\n",
        " 'run_id': RUN_ID,\n",
        "}\n",
        "\n",
        "ml_windowing_pipeline.run_features_pipeline(features_params)"
      ]
    },
    {
      "cell_type": "markdown",
      "metadata": {
        "id": "a83dNN7VIwV7"
      },
      "source": [
        "### Step 6. Visualize Features\n",
        "\n",
        "This step visualizes the statistics calculated from the Features table in Big Query. The plots include class-specific distribution plots of numerical and categorical features, which can be used to explore the validity of the features and potentially identify issues such as label leakage, and the distribution of the features over time helping to understand the consistency."
      ]
    },
    {
      "cell_type": "code",
      "execution_count": null,
      "metadata": {
        "id": "-AdMftN0IwV7"
      },
      "outputs": [],
      "source": [
        "# Read in Features table schema to select numerical and categorical feature\n",
        "# names\n",
        "sql = (\"SELECT column_name, data_type \"\n",
        "       f\"FROM `{PROJECT_ID}.{DATASET_NAME}`.INFORMATION_SCHEMA.COLUMNS \"\n",
        "       f\"WHERE table_name='features_{RUN_ID}';\")\n",
        "\n",
        "features_schema = bq_utils.run_query(sql).to_dataframe()\n",
        "features_schema.columns = ['column_name', 'type']\n",
        "print(features_schema.head(10))"
      ]
    },
    {
      "cell_type": "code",
      "execution_count": null,
      "metadata": {
        "id": "_-5apk-0IwV7"
      },
      "outputs": [],
      "source": [
        "# Select numerical and categorical feature names\n",
        "numerical_features = (list(\n",
        "    features_schema[features_schema['type'].\n",
        "                    isin(['INT64','FLOAT64'])]['column_name']))\n",
        "categorical_features = list(\n",
        "    features_schema[features_schema['type'].\n",
        "                    isin(['STRING'])]['column_name'])\n",
        "\n",
        "# Columns to remove if any\n",
        "to_remove = ['user_id', 'label']\n",
        "numerical_features = [v for v in numerical_features if v not in to_remove]\n",
        "categorical_features = [v for v in categorical_features if v not in to_remove]\n",
        "\n",
        "print('No. of numerical features:', len(numerical_features))\n",
        "print('No. of categorical features:', len(categorical_features))"
      ]
    },
    {
      "cell_type": "code",
      "execution_count": null,
      "metadata": {
        "id": "U-sKs8w0IwV7"
      },
      "outputs": [],
      "source": [
        "# Plot features\n",
        "feature_viz = feature_visualizer.FeatureVisualizer(\n",
        "        bq_client=bq_utils.client,\n",
        "        features_table_path=f'{PROJECT_ID}.{DATASET_NAME}.features_{RUN_ID}',\n",
        "        numerical_features=numerical_features,\n",
        "        categorical_features=categorical_features,\n",
        "        label_column='label', # name of the label column\n",
        "        label_type='binary', # label type\n",
        "        positive_class_label=True, # label value of the positive class\n",
        "        negative_class_label=False, # label value of the negative class\n",
        "        num_pos_instances=10000, # no. radom positive instances used for ploting\n",
        "        num_neg_instances=10000 # no. radom negative instances used for ploting\n",
        "        )\n",
        "\n",
        "feature_plots = feature_viz.plot_features()\n",
        "plt.close('all')  # Don't show plots in notebook"
      ]
    },
    {
      "cell_type": "code",
      "execution_count": null,
      "metadata": {
        "id": "iuxPLqnTPIsC"
      },
      "outputs": [],
      "source": [
        "# Save the plots to a pdf file\n",
        "feature_plots_pdf = f'{RUN_ID}_{FEATURE_PLOT_FILES}'\n",
        "helpers.save_to_pdf(filename=feature_plots_pdf, plots=feature_plots)"
      ]
    },
    {
      "cell_type": "code",
      "execution_count": null,
      "metadata": {
        "id": "DOV795ZFRgLY"
      },
      "outputs": [],
      "source": [
        ""
      ]
    }
  ],
  "metadata": {
    "colab": {
      "collapsed_sections": [],
      "name": "2.ml_data_preparation.ipynb",
      "provenance": []
    },
    "environment": {
      "kernel": "python3",
      "name": "common-cpu.m87",
      "type": "gcloud",
      "uri": "gcr.io/deeplearning-platform-release/base-cpu:m87"
    },
    "kernelspec": {
      "display_name": "Python 3",
      "language": "python",
      "name": "python3"
    },
    "language_info": {
      "codemirror_mode": {
        "name": "ipython",
        "version": 3
      },
      "file_extension": ".py",
      "mimetype": "text/x-python",
      "name": "python",
      "nbconvert_exporter": "python",
      "pygments_lexer": "ipython3",
      "version": "3.7.12"
    }
  },
  "nbformat": 4,
  "nbformat_minor": 0
}
