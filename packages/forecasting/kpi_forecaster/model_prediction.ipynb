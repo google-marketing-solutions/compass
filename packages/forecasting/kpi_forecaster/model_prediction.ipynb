{
  "cells": [
    {
      "cell_type": "markdown",
      "metadata": {
        "id": "fzV7sc-Wj7JL"
      },
      "source": [
        "Copyright 2021 Google LLC..\n",
        "\n",
        "Licensed under the Apache License, Version 2.0 (the \"License\");\n",
        "you may not use this file except in compliance with the License.\n",
        "You may obtain a copy of the License at\n",
        "\n",
        "     http://www.apache.org/licenses/LICENSE-2.0\n",
        "\n",
        "Unless required by applicable law or agreed to in writing, software\n",
        "distributed under the License is distributed on an \"AS IS\" BASIS,\n",
        "WITHOUT WARRANTIES OR CONDITIONS OF ANY KIND, either express or implied.\n",
        "See the License for the specific language governing permissions and\n",
        "limitations under the License."
      ]
    },
    {
      "cell_type": "markdown",
      "metadata": {
        "id": "DRdxwE3zdUPW"
      },
      "source": [
        "# About:\n",
        "\n",
        "This notebook uses an existing AutoML model to make a prediction about a key business objective. To run the notebook, set the parameters in the ***Input Parameters*** section below.\n"
      ]
    },
    {
      "cell_type": "markdown",
      "metadata": {
        "id": "WWSVEg8WJuH1"
      },
      "source": [
        "## Load Libraries"
      ]
    },
    {
      "cell_type": "code",
      "execution_count": null,
      "metadata": {
        "id": "He2sQQSLsepE"
      },
      "outputs": [],
      "source": [
        "import datetime\n",
        "import pandas as pd\n",
        "from utils import forecaster_util\n",
        "import template_util\n",
        "from google.cloud import bigquery"
      ]
    },
    {
      "cell_type": "markdown",
      "metadata": {
        "id": "XOSWvL0WfF8V"
      },
      "source": [
        "## Input Parameters\n",
        "\n"
      ]
    },
    {
      "cell_type": "code",
      "execution_count": null,
      "metadata": {
        "id": "6CTSaJq-vobE"
      },
      "outputs": [],
      "source": [
        "# Date of this prediction run (usually today). All output BigQuery tables,\n",
        "# including the features table and the model, will have this date suffix.\n",
        "# NB: run_date can be overridden with any date in the format: 'YYYYMMDD'.\n",
        "run_date = datetime.datetime.today().strftime('%Y%m%d')\n",
        "\n",
        "parameters = {\n",
        "    # GCP project.\n",
        "    'project_id': '',\n",
        "    # BigQuery dataset to store the output featues and model. Must be located in\n",
        "    # the US or EU, as required by AutoML.\n",
        "    'dataset_id': '',\n",
        "    \n",
        "    # Name of the ouput model table (default: model_YYYYMMDD)\n",
        "    'model_table': '',\n",
        "\n",
        "    # BigQuery SQL query to extract the input prediction data. Note there must\n",
        "    # be one column called 'ts' of type TIMESTAMP, and one column for the label\n",
        "    # (i.e. the KPI to forecast). The label column can have any name. The query\n",
        "    # must also extract any numeric (INT64, FLOAT64) columns used in the model.\n",
        "    'data_query': \"\"\"\"\"\",\n",
        "    \n",
        "    # Timestamp for the first prediction. Note that this exact timestamp must\n",
        "    # exist in the output of the data_query above. Format: '%Y-%m-%d:%H'\n",
        "    'prediction_ts': '',\n",
        "    \n",
        "    # Name of the BigQuery column containing the numeric key business objective\n",
        "    # that the model will predict.\n",
        "    'label': '',\n",
        "    # BigQuery column names of numeric features in the data_query that will be\n",
        "    # used to help predict the label.\n",
        "    'numeric_features': [],\n",
        "    \n",
        "    \n",
        "    # Window size\n",
        "    'window_size': 'HOUR',  # One of HOUR, DAY, WEEK.\n",
        "\n",
        "    # Make predictions for this many prediction_windows in the future. These\n",
        "    # are default values for each prediction_window_size and can be overriden.\n",
        "    'num_hour_prediction_windows': 72,\n",
        "    'num_day_prediction_windows': 28,\n",
        "    'num_week_prediction_windows': 4,\n",
        "\n",
        "    # List of windows. Numeric features are constructed over historical window\n",
        "    # periods. Each window is specified with a pair (window_start, window_end),\n",
        "    # which corresponds to the range (today - window_start day) to\n",
        "    # (today + window_end days) inclusive\n",
        "    'hour_lookback_windows': [\n",
        "        (1, 1), (2, 2), (3, 3), (4, 4), (24, 24), (2 * 24, 2 * 24),\n",
        "        (7 * 24, 7 * 24), (14 * 24, 14 * 24), (21 * 24, 21 * 24),\n",
        "        (28 * 24, 28 * 24), (7*24, 1), (21*24, 7*24), (35*24, 21*24)],\n",
        "    'day_lookback_windows': [\n",
        "        (1, 1), (2, 2), (3, 3), (4, 4), (5, 5), (6, 6), (7, 7), (14, 14),\n",
        "        (21, 21), (28, 28), (7, 1), (21, 8), (49, 22)],\n",
        "    'week_lookback_windows': [\n",
        "        (1, 1), (2, 2), (3, 3), (4, 4), (5, 5), (6, 6), (7, 7), (14, 14),\n",
        "        (21, 21), (28, 28), (7, 1), (21, 8), (49, 22)],\n",
        "\n",
        "    # List of BigQuery aggregation functions to apply to the historical windows.\n",
        "    'aggregate_functions': ['SUM', 'AVG'],\n",
        "    \n",
        "    # Name of the ouput predictions table (default: predictions_YYYYMMDD).\n",
        "    'prediction_table': f'predictions_{date_string}',\n",
        "\n",
        "    # SQL template locations.\n",
        "    'create_prediction_output_table_template':\n",
        "        'templates/create_prediction_output_table.sql',\n",
        "    'features_template': 'templates/features.sql',\n",
        "    'prediction_template': 'templates/prediction.sql'\n",
        "}\n",
        "\n",
        "if parameters['window_size'] == 'HOUR':\n",
        "  parameters['micros_per_window'] = 60 * 60 * 1000000\n",
        "  parameters['num_prediction_periods'] = parameters[\n",
        "      'num_hour_prediction_windows']\n",
        "  parameters['lookback_windows'] = parameters['hour_lookback_windows']\n",
        "elif parameters['window_size'] == 'DAY':\n",
        "  parameters['micros_per_window'] = 24 * 60 * 60 * 1000000\n",
        "  parameters['num_prediction_periods'] = parameters[\n",
        "      'num_day_prediction_windows']\n",
        "  parameters['lookback_windows'] = parameters['day_lookback_windows']\n",
        "elif parameters['window_size'] == 'WEEK':\n",
        "  parameters['micros_per_window'] = 7 * 24 * 60 * 60 * 1000000\n",
        "  parameters['num_prediction_periods'] = parameters[\n",
        "      'num_week_prediction_windows']\n",
        "  parameters['lookback_windows'] = parameters['week_lookback_windows']\n",
        "else:\n",
        "  assert('Error: Unknown window_size', parameters['window_size'])\n",
        "\n",
        "parameters['max_lookback'] = max(\n",
        "    [window_start for (window_start, _) in parameters['lookback_windows']])"
      ]
    },
    {
      "cell_type": "markdown",
      "metadata": {
        "id": "9yA8qRNZfxgZ"
      },
      "source": [
        "## Make Prediction"
      ]
    },
    {
      "cell_type": "code",
      "execution_count": null,
      "metadata": {
        "id": "mpy981gC0yko"
      },
      "outputs": [],
      "source": [
        "client = bigquery.Client(parameters['project_id'])\n",
        "\n",
        "prediction_query = template_util.render_template(\n",
        "    parameters['create_prediction_output_table_template'], parameters)\n",
        "client.query(prediction_query).result();\n"
      ]
    },
    {
      "cell_type": "markdown",
      "metadata": {
        "id": "BSUdf7WKn6_r"
      },
      "source": [
        "## Extract Prediction"
      ]
    },
    {
      "cell_type": "code",
      "execution_count": null,
      "metadata": {
        "id": "4_GaGvwan3Ot"
      },
      "outputs": [],
      "source": [
        "prediction_table = (f\"{parameters['project_id']}.\"\n",
        "                    f\"{parameters['dataset_id']}.\"\n",
        "                    f\"{parameters['prediction_table']}\")\n",
        "results = client.list_rows(prediction_table).to_dataframe()\n",
        "assert len(results.index) == parameters['num_prediction_periods'] + 1, 'Forecast returned the wrong number of predictions.'\n",
        "results['prediction timestamp'] = pd.to_datetime(results['ts']) + pd.to_timedelta(results['prediction_period']*parameters['micros_per_window']*1000)\n",
        "results = results[['prediction timestamp', f\"predicted_label_{parameters['label']}\"]].sort_values(by=['prediction timestamp'])\n",
        "print(results.to_string())"
      ]
    }
  ],
  "metadata": {
    "colab": {
      "collapsed_sections": [],
      "name": "RunModelPrediction.ipynb",
      "private_outputs": true,
      "provenance": [
        {
          "file_id": "/piper/depot/google3/third_party/professional_services/solutions/compass/kpi_forecaster/RunModelPrediction.ipynb?workspaceId=dabraham:forecaster::citc",
          "timestamp": 1626761993979
        },
        {
          "file_id": "/piper/depot/google3/third_party/professional_services/solutions/compass/kpi_forecaster/RunModelPrediction.ipynb?workspaceId=dabraham:forecaster::citc",
          "timestamp": 1626761928437
        }
      ]
    },
    "environment": {
      "name": "common-cpu.m76",
      "type": "gcloud",
      "uri": "gcr.io/deeplearning-platform-release/base-cpu:m76"
    },
    "kernelspec": {
      "display_name": "Python 3",
      "language": "python",
      "name": "python3"
    },
    "language_info": {
      "codemirror_mode": {
        "name": "ipython",
        "version": 3
      },
      "file_extension": ".py",
      "mimetype": "text/x-python",
      "name": "python",
      "nbconvert_exporter": "python",
      "pygments_lexer": "ipython3",
      "version": "3.7.10"
    }
  },
  "nbformat": 4,
  "nbformat_minor": 0
}
